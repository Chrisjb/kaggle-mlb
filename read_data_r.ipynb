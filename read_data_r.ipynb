{
 "cells": [
  {
   "cell_type": "markdown",
   "metadata": {},
   "source": [
    "# Initial EDA (R)"
   ]
  },
  {
   "cell_type": "markdown",
   "metadata": {},
   "source": [
    "## Read in data"
   ]
  },
  {
   "cell_type": "code",
   "execution_count": 1,
   "metadata": {},
   "outputs": [
    {
     "name": "stderr",
     "output_type": "stream",
     "text": [
      "── \u001b[1mAttaching packages\u001b[22m ─────────────────────────────────────── tidyverse 1.3.1 ──\n",
      "\n",
      "\u001b[32m✔\u001b[39m \u001b[34mggplot2\u001b[39m 3.3.5     \u001b[32m✔\u001b[39m \u001b[34mpurrr  \u001b[39m 0.3.4\n",
      "\u001b[32m✔\u001b[39m \u001b[34mtibble \u001b[39m 3.1.2     \u001b[32m✔\u001b[39m \u001b[34mdplyr  \u001b[39m 1.0.7\n",
      "\u001b[32m✔\u001b[39m \u001b[34mtidyr  \u001b[39m 1.1.3     \u001b[32m✔\u001b[39m \u001b[34mstringr\u001b[39m 1.4.0\n",
      "\u001b[32m✔\u001b[39m \u001b[34mreadr  \u001b[39m 1.4.0     \u001b[32m✔\u001b[39m \u001b[34mforcats\u001b[39m 0.5.1\n",
      "\n",
      "── \u001b[1mConflicts\u001b[22m ────────────────────────────────────────── tidyverse_conflicts() ──\n",
      "\u001b[31m✖\u001b[39m \u001b[34mdplyr\u001b[39m::\u001b[32mfilter()\u001b[39m masks \u001b[34mstats\u001b[39m::filter()\n",
      "\u001b[31m✖\u001b[39m \u001b[34mdplyr\u001b[39m::\u001b[32mlag()\u001b[39m    masks \u001b[34mstats\u001b[39m::lag()\n",
      "\n",
      "\n",
      "Attaching package: ‘data.table’\n",
      "\n",
      "\n",
      "The following objects are masked from ‘package:dplyr’:\n",
      "\n",
      "    between, first, last\n",
      "\n",
      "\n",
      "The following object is masked from ‘package:purrr’:\n",
      "\n",
      "    transpose\n",
      "\n",
      "\n",
      "\n",
      "Attaching package: ‘glue’\n",
      "\n",
      "\n",
      "The following object is masked from ‘package:dplyr’:\n",
      "\n",
      "    collapse\n",
      "\n",
      "\n"
     ]
    }
   ],
   "source": [
    "library(tidyverse)\n",
    "library(data.table)\n",
    "library(glue)"
   ]
  },
  {
   "cell_type": "code",
   "execution_count": 2,
   "metadata": {},
   "outputs": [],
   "source": [
    "awards <- fread('raw_data/awards.csv')"
   ]
  },
  {
   "cell_type": "code",
   "execution_count": 3,
   "metadata": {},
   "outputs": [
    {
     "name": "stdout",
     "output_type": "stream",
     "text": [
      "Rows: 11,256\n",
      "Columns: 7\n",
      "$ awardDate         \u001b[3m\u001b[90m<date>\u001b[39m\u001b[23m 2017-12-21, 2017-12-20, 2017-12-20, 2017-12-20, 201…\n",
      "$ awardSeason       \u001b[3m\u001b[90m<int>\u001b[39m\u001b[23m 2017, 2017, 2017, 2017, 2017, 2017, 2017, 2017, 2017…\n",
      "$ awardId           \u001b[3m\u001b[90m<chr>\u001b[39m\u001b[23m \"WARRENSPAHN\", \"MILBORGAS\", \"MILBORGAS\", \"MILBORGAS\"…\n",
      "$ awardName         \u001b[3m\u001b[90m<chr>\u001b[39m\u001b[23m \"Warren Spahn Award\", \"MiLB.com Organization All-Sta…\n",
      "$ playerId          \u001b[3m\u001b[90m<int>\u001b[39m\u001b[23m 477132, 474319, 592530, 593833, 600466, 641914, 6453…\n",
      "$ playerName        \u001b[3m\u001b[90m<chr>\u001b[39m\u001b[23m \"Clayton Kershaw\", \"Brandon Snyder\", \"Jose Marmolejo…\n",
      "$ awardPlayerTeamId \u001b[3m\u001b[90m<int>\u001b[39m\u001b[23m 119, 120, 120, 120, 120, 120, 120, 120, 120, 671, 67…\n"
     ]
    }
   ],
   "source": [
    "glimpse(awards)"
   ]
  },
  {
   "cell_type": "code",
   "execution_count": 4,
   "metadata": {},
   "outputs": [
    {
     "name": "stdout",
     "output_type": "stream",
     "text": [
      "was using: 4 threads\n",
      "now using: 7 threads\n"
     ]
    }
   ],
   "source": [
    "print(glue(\"was using: {getDTthreads()} threads\"))\n",
    "setDTthreads(parallel::detectCores()-1)\n",
    "print(glue(\"now using: {getDTthreads()} threads\"))\n"
   ]
  },
  {
   "cell_type": "code",
   "execution_count": 5,
   "metadata": {},
   "outputs": [],
   "source": [
    "players <- fread('raw_data/players.csv')"
   ]
  },
  {
   "cell_type": "code",
   "execution_count": 6,
   "metadata": {},
   "outputs": [],
   "source": [
    "train <- read_csv('raw_data/train.csv',n_max=10,col_types = cols(.default='c'))"
   ]
  },
  {
   "cell_type": "markdown",
   "metadata": {},
   "source": [
    "\n",
    "`nextDayPlayerEngagement`, `playerTwitterFollowers`, `teamTwitterFollowers` in JSON format"
   ]
  },
  {
   "cell_type": "code",
   "execution_count": 7,
   "metadata": {},
   "outputs": [
    {
     "name": "stdout",
     "output_type": "stream",
     "text": [
      "Rows: 10\n",
      "Columns: 12\n",
      "$ date                    \u001b[3m\u001b[90m<chr>\u001b[39m\u001b[23m \"20180101\", \"20180102\", \"20180103\", \"20180104\"…\n",
      "$ nextDayPlayerEngagement \u001b[3m\u001b[90m<chr>\u001b[39m\u001b[23m \"[{\\\"engagementMetricsDate\\\":\\\"2018-01-02\\\",\\\"…\n",
      "$ games                   \u001b[3m\u001b[90m<chr>\u001b[39m\u001b[23m NA, NA, NA, NA, NA, NA, NA, NA, NA, NA\n",
      "$ rosters                 \u001b[3m\u001b[90m<chr>\u001b[39m\u001b[23m \"[{\\\"playerId\\\":400121,\\\"gameDate\\\":\\\"2018-01-…\n",
      "$ playerBoxScores         \u001b[3m\u001b[90m<chr>\u001b[39m\u001b[23m NA, NA, NA, NA, NA, NA, NA, NA, NA, NA\n",
      "$ teamBoxScores           \u001b[3m\u001b[90m<chr>\u001b[39m\u001b[23m NA, NA, NA, NA, NA, NA, NA, NA, NA, NA\n",
      "$ transactions            \u001b[3m\u001b[90m<chr>\u001b[39m\u001b[23m \"[{\\\"transactionId\\\":340732,\\\"playerId\\\":54734…\n",
      "$ standings               \u001b[3m\u001b[90m<chr>\u001b[39m\u001b[23m NA, NA, NA, NA, NA, NA, NA, NA, NA, NA\n",
      "$ awards                  \u001b[3m\u001b[90m<chr>\u001b[39m\u001b[23m NA, NA, NA, NA, NA, NA, NA, NA, NA, NA\n",
      "$ events                  \u001b[3m\u001b[90m<chr>\u001b[39m\u001b[23m NA, NA, NA, NA, NA, NA, NA, NA, NA, NA\n",
      "$ playerTwitterFollowers  \u001b[3m\u001b[90m<chr>\u001b[39m\u001b[23m \"[{\\\"date\\\":\\\"2018-01-01\\\",\\\"playerId\\\":545361…\n",
      "$ teamTwitterFollowers    \u001b[3m\u001b[90m<chr>\u001b[39m\u001b[23m \"[{\\\"date\\\":\\\"2018-01-01\\\",\\\"teamId\\\":147,\\\"te…\n"
     ]
    }
   ],
   "source": [
    "glimpse(train)"
   ]
  },
  {
   "cell_type": "code",
   "execution_count": 8,
   "metadata": {},
   "outputs": [
    {
     "name": "stdout",
     "output_type": "stream",
     "text": [
      "Rows: 20,610\n",
      "Columns: 6\n",
      "$ engagementMetricsDate \u001b[3m\u001b[90m<chr>\u001b[39m\u001b[23m \"2018-01-02\", \"2018-01-02\", \"2018-01-02\", \"2018-…\n",
      "$ playerId              \u001b[3m\u001b[90m<int>\u001b[39m\u001b[23m 628317, 547989, 519317, 607625, 592547, 641553, …\n",
      "$ target1               \u001b[3m\u001b[90m<dbl>\u001b[39m\u001b[23m 0.011167071, 0.042993222, 0.974326905, 0.0067002…\n",
      "$ target2               \u001b[3m\u001b[90m<dbl>\u001b[39m\u001b[23m 4.4747082, 5.5933852, 56.1770428, 2.6750973, 0.6…\n",
      "$ target3               \u001b[3m\u001b[90m<dbl>\u001b[39m\u001b[23m 5.167730e-03, 4.503307e-02, 1.369375e+01, 5.1677…\n",
      "$ target4               \u001b[3m\u001b[90m<dbl>\u001b[39m\u001b[23m 5.7352941, 2.7941176, 64.1666667, 1.8627451, 0.9…\n"
     ]
    }
   ],
   "source": [
    "map_df(train$nextDayPlayerEngagement, function(x) jsonlite::fromJSON(x)) %>%\n",
    "       glimpse"
   ]
  },
  {
   "cell_type": "markdown",
   "metadata": {},
   "source": [
    "Read in the csv chunk-wise, formatting the JSON columns as we go..."
   ]
  },
  {
   "cell_type": "code",
   "execution_count": 9,
   "metadata": {},
   "outputs": [],
   "source": [
    "read_nested_cols <- function(file, column_name, chunk_size=5){\n",
    "    cb <- function(x, pos) map_df(x[[column_name]], function(x) if(jsonlite::validate(x)) jsonlite::fromJSON(x))\n",
    "                                  \n",
    "    read_csv_chunked(file ,chunk_size = chunk_size, callback = DataFrameCallback$new(cb),col_types = cols(.default='c'))\n",
    "}\n",
    "\n",
    "\n"
   ]
  },
  {
   "cell_type": "code",
   "execution_count": 10,
   "metadata": {},
   "outputs": [],
   "source": [
    "nextDayPlayerEngagement <- read_nested_cols('raw_data/train.csv', 'nextDayPlayerEngagement', 5 )"
   ]
  },
  {
   "cell_type": "code",
   "execution_count": 11,
   "metadata": {},
   "outputs": [
    {
     "name": "stdout",
     "output_type": "stream",
     "text": [
      "Rows: 2,506,176\n",
      "Columns: 6\n",
      "$ engagementMetricsDate \u001b[3m\u001b[90m<chr>\u001b[39m\u001b[23m \"2018-01-02\", \"2018-01-02\", \"2018-01-02\", \"2018-…\n",
      "$ playerId              \u001b[3m\u001b[90m<int>\u001b[39m\u001b[23m 628317, 547989, 519317, 607625, 592547, 641553, …\n",
      "$ target1               \u001b[3m\u001b[90m<dbl>\u001b[39m\u001b[23m 0.011167071, 0.042993222, 0.974326905, 0.0067002…\n",
      "$ target2               \u001b[3m\u001b[90m<dbl>\u001b[39m\u001b[23m 4.4747082, 5.5933852, 56.1770428, 2.6750973, 0.6…\n",
      "$ target3               \u001b[3m\u001b[90m<dbl>\u001b[39m\u001b[23m 5.167730e-03, 4.503307e-02, 1.369375e+01, 5.1677…\n",
      "$ target4               \u001b[3m\u001b[90m<dbl>\u001b[39m\u001b[23m 5.7352941, 2.7941176, 64.1666667, 1.8627451, 0.9…\n"
     ]
    }
   ],
   "source": [
    "glimpse(nextDayPlayerEngagement)"
   ]
  },
  {
   "cell_type": "markdown",
   "metadata": {},
   "source": [
    "We can loop through all of the remaining columns and write out to a fast format for future use..."
   ]
  },
  {
   "cell_type": "code",
   "execution_count": 19,
   "metadata": {},
   "outputs": [],
   "source": [
    "to_unpack <- names(train)[names(train) != 'date']\n",
    "for(nm in to_unpack){\n",
    "    df <- read_nested_cols('raw_data/train.csv', nm, 5 )\n",
    "    feather::write_feather(df, glue(\"raw_data/train_{nm}.feather\"))\n",
    "}\n"
   ]
  },
  {
   "cell_type": "code",
   "execution_count": 20,
   "metadata": {},
   "outputs": [
    {
     "data": {
      "text/html": [
       "<style>\n",
       ".list-inline {list-style: none; margin:0; padding: 0}\n",
       ".list-inline>li {display: inline-block}\n",
       ".list-inline>li:not(:last-child)::after {content: \"\\00b7\"; padding: 0 .5ex}\n",
       "</style>\n",
       "<ol class=list-inline><li>'awards.csv'</li><li>'example_sample_submission.csv'</li><li>'example_test.csv'</li><li>'mlb'</li><li>'newtrain.csv'</li><li>'players.csv'</li><li>'seasons.csv'</li><li>'teams.csv'</li><li>'train_awards.feather'</li><li>'train_events.feather'</li><li>'train_games.feather'</li><li>'train_nextDayPlayerEngagement.feather'</li><li>'train_playerBoxScores.feather'</li><li>'train_playerTwitterFollowers.feather'</li><li>'train_rosters.feather'</li><li>'train_standings.feather'</li><li>'train_teamBoxScores.feather'</li><li>'train_teamTwitterFollowers.feather'</li><li>'train_transactions.feather'</li><li>'train.csv'</li></ol>\n"
      ],
      "text/latex": [
       "\\begin{enumerate*}\n",
       "\\item 'awards.csv'\n",
       "\\item 'example\\_sample\\_submission.csv'\n",
       "\\item 'example\\_test.csv'\n",
       "\\item 'mlb'\n",
       "\\item 'newtrain.csv'\n",
       "\\item 'players.csv'\n",
       "\\item 'seasons.csv'\n",
       "\\item 'teams.csv'\n",
       "\\item 'train\\_awards.feather'\n",
       "\\item 'train\\_events.feather'\n",
       "\\item 'train\\_games.feather'\n",
       "\\item 'train\\_nextDayPlayerEngagement.feather'\n",
       "\\item 'train\\_playerBoxScores.feather'\n",
       "\\item 'train\\_playerTwitterFollowers.feather'\n",
       "\\item 'train\\_rosters.feather'\n",
       "\\item 'train\\_standings.feather'\n",
       "\\item 'train\\_teamBoxScores.feather'\n",
       "\\item 'train\\_teamTwitterFollowers.feather'\n",
       "\\item 'train\\_transactions.feather'\n",
       "\\item 'train.csv'\n",
       "\\end{enumerate*}\n"
      ],
      "text/markdown": [
       "1. 'awards.csv'\n",
       "2. 'example_sample_submission.csv'\n",
       "3. 'example_test.csv'\n",
       "4. 'mlb'\n",
       "5. 'newtrain.csv'\n",
       "6. 'players.csv'\n",
       "7. 'seasons.csv'\n",
       "8. 'teams.csv'\n",
       "9. 'train_awards.feather'\n",
       "10. 'train_events.feather'\n",
       "11. 'train_games.feather'\n",
       "12. 'train_nextDayPlayerEngagement.feather'\n",
       "13. 'train_playerBoxScores.feather'\n",
       "14. 'train_playerTwitterFollowers.feather'\n",
       "15. 'train_rosters.feather'\n",
       "16. 'train_standings.feather'\n",
       "17. 'train_teamBoxScores.feather'\n",
       "18. 'train_teamTwitterFollowers.feather'\n",
       "19. 'train_transactions.feather'\n",
       "20. 'train.csv'\n",
       "\n",
       "\n"
      ],
      "text/plain": [
       " [1] \"awards.csv\"                           \n",
       " [2] \"example_sample_submission.csv\"        \n",
       " [3] \"example_test.csv\"                     \n",
       " [4] \"mlb\"                                  \n",
       " [5] \"newtrain.csv\"                         \n",
       " [6] \"players.csv\"                          \n",
       " [7] \"seasons.csv\"                          \n",
       " [8] \"teams.csv\"                            \n",
       " [9] \"train_awards.feather\"                 \n",
       "[10] \"train_events.feather\"                 \n",
       "[11] \"train_games.feather\"                  \n",
       "[12] \"train_nextDayPlayerEngagement.feather\"\n",
       "[13] \"train_playerBoxScores.feather\"        \n",
       "[14] \"train_playerTwitterFollowers.feather\" \n",
       "[15] \"train_rosters.feather\"                \n",
       "[16] \"train_standings.feather\"              \n",
       "[17] \"train_teamBoxScores.feather\"          \n",
       "[18] \"train_teamTwitterFollowers.feather\"   \n",
       "[19] \"train_transactions.feather\"           \n",
       "[20] \"train.csv\"                            "
      ]
     },
     "metadata": {},
     "output_type": "display_data"
    }
   ],
   "source": [
    "list.files('raw_data')"
   ]
  }
 ],
 "metadata": {
  "kernelspec": {
   "display_name": "R",
   "language": "R",
   "name": "ir"
  },
  "language_info": {
   "codemirror_mode": "r",
   "file_extension": ".r",
   "mimetype": "text/x-r-source",
   "name": "R",
   "pygments_lexer": "r",
   "version": "3.6.3"
  }
 },
 "nbformat": 4,
 "nbformat_minor": 4
}
