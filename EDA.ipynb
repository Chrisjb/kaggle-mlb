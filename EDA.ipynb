{
 "cells": [
  {
   "cell_type": "markdown",
   "id": "d3fe67e8",
   "metadata": {},
   "source": [
    "# EDA"
   ]
  },
  {
   "cell_type": "code",
   "execution_count": 158,
   "id": "53f74547",
   "metadata": {},
   "outputs": [
    {
     "name": "stderr",
     "output_type": "stream",
     "text": [
      "\n",
      "Attaching package: ‘lubridate’\n",
      "\n",
      "\n",
      "The following objects are masked from ‘package:base’:\n",
      "\n",
      "    date, intersect, setdiff, union\n",
      "\n",
      "\n"
     ]
    }
   ],
   "source": [
    "library(tidyverse)\n",
    "library(lubridate)"
   ]
  },
  {
   "cell_type": "markdown",
   "id": "e6b67dcb",
   "metadata": {},
   "source": [
    "## Target Columns"
   ]
  },
  {
   "cell_type": "code",
   "execution_count": 45,
   "id": "c274ca7f",
   "metadata": {},
   "outputs": [],
   "source": [
    "target <- feather::read_feather('raw_data/train_nextDayPlayerEngagement.feather')"
   ]
  },
  {
   "cell_type": "code",
   "execution_count": 178,
   "id": "9c26d9b2",
   "metadata": {},
   "outputs": [
    {
     "data": {
      "text/html": [
       "<table class=\"dataframe\">\n",
       "<caption>A tibble: 6 × 7</caption>\n",
       "<thead>\n",
       "\t<tr><th scope=col>engagementMetricsDate</th><th scope=col>playerId</th><th scope=col>target1</th><th scope=col>target2</th><th scope=col>target3</th><th scope=col>target4</th><th scope=col>main_date</th></tr>\n",
       "\t<tr><th scope=col>&lt;chr&gt;</th><th scope=col>&lt;int&gt;</th><th scope=col>&lt;dbl&gt;</th><th scope=col>&lt;dbl&gt;</th><th scope=col>&lt;dbl&gt;</th><th scope=col>&lt;dbl&gt;</th><th scope=col>&lt;date&gt;</th></tr>\n",
       "</thead>\n",
       "<tbody>\n",
       "\t<tr><td>2018-01-02</td><td>628317</td><td>0.011167071</td><td> 4.4747082</td><td> 0.005167730</td><td> 5.7352941</td><td>2018-01-01</td></tr>\n",
       "\t<tr><td>2018-01-02</td><td>547989</td><td>0.042993222</td><td> 5.5933852</td><td> 0.045033073</td><td> 2.7941176</td><td>2018-01-01</td></tr>\n",
       "\t<tr><td>2018-01-02</td><td>519317</td><td>0.974326905</td><td>56.1770428</td><td>13.693745571</td><td>64.1666667</td><td>2018-01-01</td></tr>\n",
       "\t<tr><td>2018-01-02</td><td>607625</td><td>0.006700242</td><td> 2.6750973</td><td> 0.005167730</td><td> 1.8627451</td><td>2018-01-01</td></tr>\n",
       "\t<tr><td>2018-01-02</td><td>592547</td><td>0.001116707</td><td> 0.6322957</td><td> 0.002952988</td><td> 0.9313725</td><td>2018-01-01</td></tr>\n",
       "\t<tr><td>2018-01-02</td><td>641553</td><td>0.011725424</td><td> 3.8424125</td><td> 1.001801323</td><td> 0.6862745</td><td>2018-01-01</td></tr>\n",
       "</tbody>\n",
       "</table>\n"
      ],
      "text/latex": [
       "A tibble: 6 × 7\n",
       "\\begin{tabular}{lllllll}\n",
       " engagementMetricsDate & playerId & target1 & target2 & target3 & target4 & main\\_date\\\\\n",
       " <chr> & <int> & <dbl> & <dbl> & <dbl> & <dbl> & <date>\\\\\n",
       "\\hline\n",
       "\t 2018-01-02 & 628317 & 0.011167071 &  4.4747082 &  0.005167730 &  5.7352941 & 2018-01-01\\\\\n",
       "\t 2018-01-02 & 547989 & 0.042993222 &  5.5933852 &  0.045033073 &  2.7941176 & 2018-01-01\\\\\n",
       "\t 2018-01-02 & 519317 & 0.974326905 & 56.1770428 & 13.693745571 & 64.1666667 & 2018-01-01\\\\\n",
       "\t 2018-01-02 & 607625 & 0.006700242 &  2.6750973 &  0.005167730 &  1.8627451 & 2018-01-01\\\\\n",
       "\t 2018-01-02 & 592547 & 0.001116707 &  0.6322957 &  0.002952988 &  0.9313725 & 2018-01-01\\\\\n",
       "\t 2018-01-02 & 641553 & 0.011725424 &  3.8424125 &  1.001801323 &  0.6862745 & 2018-01-01\\\\\n",
       "\\end{tabular}\n"
      ],
      "text/markdown": [
       "\n",
       "A tibble: 6 × 7\n",
       "\n",
       "| engagementMetricsDate &lt;chr&gt; | playerId &lt;int&gt; | target1 &lt;dbl&gt; | target2 &lt;dbl&gt; | target3 &lt;dbl&gt; | target4 &lt;dbl&gt; | main_date &lt;date&gt; |\n",
       "|---|---|---|---|---|---|---|\n",
       "| 2018-01-02 | 628317 | 0.011167071 |  4.4747082 |  0.005167730 |  5.7352941 | 2018-01-01 |\n",
       "| 2018-01-02 | 547989 | 0.042993222 |  5.5933852 |  0.045033073 |  2.7941176 | 2018-01-01 |\n",
       "| 2018-01-02 | 519317 | 0.974326905 | 56.1770428 | 13.693745571 | 64.1666667 | 2018-01-01 |\n",
       "| 2018-01-02 | 607625 | 0.006700242 |  2.6750973 |  0.005167730 |  1.8627451 | 2018-01-01 |\n",
       "| 2018-01-02 | 592547 | 0.001116707 |  0.6322957 |  0.002952988 |  0.9313725 | 2018-01-01 |\n",
       "| 2018-01-02 | 641553 | 0.011725424 |  3.8424125 |  1.001801323 |  0.6862745 | 2018-01-01 |\n",
       "\n"
      ],
      "text/plain": [
       "  engagementMetricsDate playerId target1     target2    target3      target4   \n",
       "1 2018-01-02            628317   0.011167071  4.4747082  0.005167730  5.7352941\n",
       "2 2018-01-02            547989   0.042993222  5.5933852  0.045033073  2.7941176\n",
       "3 2018-01-02            519317   0.974326905 56.1770428 13.693745571 64.1666667\n",
       "4 2018-01-02            607625   0.006700242  2.6750973  0.005167730  1.8627451\n",
       "5 2018-01-02            592547   0.001116707  0.6322957  0.002952988  0.9313725\n",
       "6 2018-01-02            641553   0.011725424  3.8424125  1.001801323  0.6862745\n",
       "  main_date \n",
       "1 2018-01-01\n",
       "2 2018-01-01\n",
       "3 2018-01-01\n",
       "4 2018-01-01\n",
       "5 2018-01-01\n",
       "6 2018-01-01"
      ]
     },
     "metadata": {},
     "output_type": "display_data"
    },
    {
     "data": {
      "text/html": [
       "<style>\n",
       ".list-inline {list-style: none; margin:0; padding: 0}\n",
       ".list-inline>li {display: inline-block}\n",
       ".list-inline>li:not(:last-child)::after {content: \"\\00b7\"; padding: 0 .5ex}\n",
       "</style>\n",
       "<ol class=list-inline><li>2506176</li><li>7</li></ol>\n"
      ],
      "text/latex": [
       "\\begin{enumerate*}\n",
       "\\item 2506176\n",
       "\\item 7\n",
       "\\end{enumerate*}\n"
      ],
      "text/markdown": [
       "1. 2506176\n",
       "2. 7\n",
       "\n",
       "\n"
      ],
      "text/plain": [
       "[1] 2506176       7"
      ]
     },
     "metadata": {},
     "output_type": "display_data"
    }
   ],
   "source": [
    "head(target)\n",
    "dim(target)"
   ]
  },
  {
   "cell_type": "markdown",
   "id": "5e844a82",
   "metadata": {},
   "source": [
    "how much are target columns correlated?\n"
   ]
  },
  {
   "cell_type": "code",
   "execution_count": 86,
   "id": "15e6b00f",
   "metadata": {},
   "outputs": [],
   "source": [
    "target_cols <- c('target1','target2','target3', 'target4')\n",
    "target_corrs <- data.frame()\n",
    "\n",
    "for(col1 in target_cols) {\n",
    "    for(col2 in target_cols){\n",
    "        key <- paste0(min(as.numeric(str_extract(col1,'\\\\d')),as.numeric(str_extract(col2,'\\\\d'))),\n",
    "                          max(as.numeric(str_extract(col1,'\\\\d')),as.numeric(str_extract(col2,'\\\\d'))))\n",
    "        if(col1 != col2 & !key %in% target_corrs$key){\n",
    "            corr <- data.frame(col1=col1, col2=col2, key, cor = cor(target[[col1]], target[[col2]]))\n",
    "            target_corrs <- rbind(target_corrs, corr)\n",
    "        }\n",
    "        \n",
    "    }\n",
    "}"
   ]
  },
  {
   "cell_type": "code",
   "execution_count": 88,
   "id": "a409cba0",
   "metadata": {},
   "outputs": [
    {
     "data": {
      "text/html": [
       "<table class=\"dataframe\">\n",
       "<caption>A data.frame: 6 × 3</caption>\n",
       "<thead>\n",
       "\t<tr><th scope=col>col1</th><th scope=col>col2</th><th scope=col>cor</th></tr>\n",
       "\t<tr><th scope=col>&lt;fct&gt;</th><th scope=col>&lt;fct&gt;</th><th scope=col>&lt;dbl&gt;</th></tr>\n",
       "</thead>\n",
       "<tbody>\n",
       "\t<tr><td>target1</td><td>target2</td><td>0.4045321</td></tr>\n",
       "\t<tr><td>target1</td><td>target3</td><td>0.4110238</td></tr>\n",
       "\t<tr><td>target1</td><td>target4</td><td>0.3849621</td></tr>\n",
       "\t<tr><td>target2</td><td>target3</td><td>0.3881341</td></tr>\n",
       "\t<tr><td>target2</td><td>target4</td><td>0.5489905</td></tr>\n",
       "\t<tr><td>target3</td><td>target4</td><td>0.3703335</td></tr>\n",
       "</tbody>\n",
       "</table>\n"
      ],
      "text/latex": [
       "A data.frame: 6 × 3\n",
       "\\begin{tabular}{lll}\n",
       " col1 & col2 & cor\\\\\n",
       " <fct> & <fct> & <dbl>\\\\\n",
       "\\hline\n",
       "\t target1 & target2 & 0.4045321\\\\\n",
       "\t target1 & target3 & 0.4110238\\\\\n",
       "\t target1 & target4 & 0.3849621\\\\\n",
       "\t target2 & target3 & 0.3881341\\\\\n",
       "\t target2 & target4 & 0.5489905\\\\\n",
       "\t target3 & target4 & 0.3703335\\\\\n",
       "\\end{tabular}\n"
      ],
      "text/markdown": [
       "\n",
       "A data.frame: 6 × 3\n",
       "\n",
       "| col1 &lt;fct&gt; | col2 &lt;fct&gt; | cor &lt;dbl&gt; |\n",
       "|---|---|---|\n",
       "| target1 | target2 | 0.4045321 |\n",
       "| target1 | target3 | 0.4110238 |\n",
       "| target1 | target4 | 0.3849621 |\n",
       "| target2 | target3 | 0.3881341 |\n",
       "| target2 | target4 | 0.5489905 |\n",
       "| target3 | target4 | 0.3703335 |\n",
       "\n"
      ],
      "text/plain": [
       "  col1    col2    cor      \n",
       "1 target1 target2 0.4045321\n",
       "2 target1 target3 0.4110238\n",
       "3 target1 target4 0.3849621\n",
       "4 target2 target3 0.3881341\n",
       "5 target2 target4 0.5489905\n",
       "6 target3 target4 0.3703335"
      ]
     },
     "metadata": {},
     "output_type": "display_data"
    }
   ],
   "source": [
    "target_corrs %>%\n",
    "select(-key)"
   ]
  },
  {
   "cell_type": "markdown",
   "id": "162ed087",
   "metadata": {},
   "source": [
    "How does engagement drop off?\n",
    "* target 1 seems fairly stable and peaks more towards the end of the period\n",
    "* target 2 has a clear drop off in engagement over time\n",
    "* target 3 similar to target 1 but higher variance and no peak towards the end\n",
    "* target 4 shows rapid drop off in first few days and recovers in mid and end of series"
   ]
  },
  {
   "cell_type": "code",
   "execution_count": 165,
   "id": "65a17484",
   "metadata": {},
   "outputs": [
    {
     "name": "stderr",
     "output_type": "stream",
     "text": [
      "`summarise()` has grouped output by 'engagementMetricsDate'. You can override using the `.groups` argument.\n",
      "\n"
     ]
    },
    {
     "data": {
      "image/png": "[encoded data removed]",
      "text/plain": [
       "plot without title"
      ]
     },
     "metadata": {
      "image/png": {
       "height": 420,
       "width": 420
      },
      "text/plain": {
       "height": 420,
       "width": 420
      }
     },
     "output_type": "display_data"
    }
   ],
   "source": [
    "target %>%\n",
    "mutate(across(starts_with('target'), scale)) %>%\n",
    "group_by(engagementMetricsDate,main_date) %>%\n",
    "summarise(across(starts_with('target'),mean)) %>%\n",
    "filter(main_date == as.Date('2018-03-22','%Y-%m-%d')) %>%\n",
    "pivot_longer(target1:target4, names_to='target', values_to='value') %>%\n",
    "ggplot() +\n",
    "geom_line(aes(x = engagementMetricsDate, y = value, col=target, group=target))"
   ]
  },
  {
   "cell_type": "markdown",
   "id": "06d03450",
   "metadata": {},
   "source": [
    "### Awards.csv"
   ]
  },
  {
   "cell_type": "code",
   "execution_count": null,
   "id": "b614eca5",
   "metadata": {},
   "outputs": [],
   "source": [
    "awards <- read_csv('raw_data/Awards.csv')"
   ]
  },
  {
   "cell_type": "code",
   "execution_count": 4,
   "id": "6949bf78",
   "metadata": {},
   "outputs": [
    {
     "name": "stdout",
     "output_type": "stream",
     "text": [
      "Rows: 11,256\n",
      "Columns: 7\n",
      "$ awardDate         \u001b[3m\u001b[90m<date>\u001b[39m\u001b[23m 2017-12-21, 2017-12-20, 2017-12-20, 2017-12-20, 201…\n",
      "$ awardSeason       \u001b[3m\u001b[90m<dbl>\u001b[39m\u001b[23m 2017, 2017, 2017, 2017, 2017, 2017, 2017, 2017, 2017…\n",
      "$ awardId           \u001b[3m\u001b[90m<chr>\u001b[39m\u001b[23m \"WARRENSPAHN\", \"MILBORGAS\", \"MILBORGAS\", \"MILBORGAS\"…\n",
      "$ awardName         \u001b[3m\u001b[90m<chr>\u001b[39m\u001b[23m \"Warren Spahn Award\", \"MiLB.com Organization All-Sta…\n",
      "$ playerId          \u001b[3m\u001b[90m<dbl>\u001b[39m\u001b[23m 477132, 474319, 592530, 593833, 600466, 641914, 6453…\n",
      "$ playerName        \u001b[3m\u001b[90m<chr>\u001b[39m\u001b[23m \"Clayton Kershaw\", \"Brandon Snyder\", \"Jose Marmolejo…\n",
      "$ awardPlayerTeamId \u001b[3m\u001b[90m<dbl>\u001b[39m\u001b[23m 119, 120, 120, 120, 120, 120, 120, 120, 120, 671, 67…\n"
     ]
    }
   ],
   "source": [
    "glimpse(awards)"
   ]
  },
  {
   "cell_type": "markdown",
   "id": "7823a6db",
   "metadata": {},
   "source": [
    "\n",
    "\n",
    "455 different awards, some given more frequently than others"
   ]
  },
  {
   "cell_type": "code",
   "execution_count": 10,
   "id": "1be1cab5",
   "metadata": {},
   "outputs": [
    {
     "data": {
      "text/html": [
       "<table class=\"dataframe\">\n",
       "<caption>A tibble: 20 × 2</caption>\n",
       "<thead>\n",
       "\t<tr><th scope=col>awardName</th><th scope=col>n</th></tr>\n",
       "\t<tr><th scope=col>&lt;chr&gt;</th><th scope=col>&lt;int&gt;</th></tr>\n",
       "</thead>\n",
       "<tbody>\n",
       "\t<tr><td>MiLB.com Organization All-Star               </td><td>1307</td></tr>\n",
       "\t<tr><td>Futures Game Selection                       </td><td> 425</td></tr>\n",
       "\t<tr><td>AFL Rising Stars                             </td><td> 316</td></tr>\n",
       "\t<tr><td>NL All-Star                                  </td><td> 277</td></tr>\n",
       "\t<tr><td>AL All-Star                                  </td><td> 270</td></tr>\n",
       "\t<tr><td>FSL Mid-Season All-Star                      </td><td> 235</td></tr>\n",
       "\t<tr><td>NL Player of the Week                        </td><td> 230</td></tr>\n",
       "\t<tr><td>SOU Mid-Season All-Star                      </td><td> 223</td></tr>\n",
       "\t<tr><td>MID Mid-Season All-Star                      </td><td> 222</td></tr>\n",
       "\t<tr><td>TEX Mid-Season All-Star                      </td><td> 208</td></tr>\n",
       "\t<tr><td>AL Player of the Week                        </td><td> 207</td></tr>\n",
       "\t<tr><td>EAS Mid-Season All-Star                      </td><td> 206</td></tr>\n",
       "\t<tr><td>SAL Mid-Season All-Star                      </td><td> 188</td></tr>\n",
       "\t<tr><td>AFL All-Prospect Team                        </td><td> 164</td></tr>\n",
       "\t<tr><td>CAL Mid-Season All-Star                      </td><td> 136</td></tr>\n",
       "\t<tr><td>Baseball America Minor League All-Star       </td><td> 135</td></tr>\n",
       "\t<tr><td>INT Mid-Season All-Star                      </td><td> 129</td></tr>\n",
       "\t<tr><td>PCL Mid-Season All-Star                      </td><td> 127</td></tr>\n",
       "\t<tr><td>World Series Championship                    </td><td> 127</td></tr>\n",
       "\t<tr><td>Baseball America Major League All-Rookie Team</td><td> 122</td></tr>\n",
       "</tbody>\n",
       "</table>\n"
      ],
      "text/latex": [
       "A tibble: 20 × 2\n",
       "\\begin{tabular}{ll}\n",
       " awardName & n\\\\\n",
       " <chr> & <int>\\\\\n",
       "\\hline\n",
       "\t MiLB.com Organization All-Star                & 1307\\\\\n",
       "\t Futures Game Selection                        &  425\\\\\n",
       "\t AFL Rising Stars                              &  316\\\\\n",
       "\t NL All-Star                                   &  277\\\\\n",
       "\t AL All-Star                                   &  270\\\\\n",
       "\t FSL Mid-Season All-Star                       &  235\\\\\n",
       "\t NL Player of the Week                         &  230\\\\\n",
       "\t SOU Mid-Season All-Star                       &  223\\\\\n",
       "\t MID Mid-Season All-Star                       &  222\\\\\n",
       "\t TEX Mid-Season All-Star                       &  208\\\\\n",
       "\t AL Player of the Week                         &  207\\\\\n",
       "\t EAS Mid-Season All-Star                       &  206\\\\\n",
       "\t SAL Mid-Season All-Star                       &  188\\\\\n",
       "\t AFL All-Prospect Team                         &  164\\\\\n",
       "\t CAL Mid-Season All-Star                       &  136\\\\\n",
       "\t Baseball America Minor League All-Star        &  135\\\\\n",
       "\t INT Mid-Season All-Star                       &  129\\\\\n",
       "\t PCL Mid-Season All-Star                       &  127\\\\\n",
       "\t World Series Championship                     &  127\\\\\n",
       "\t Baseball America Major League All-Rookie Team &  122\\\\\n",
       "\\end{tabular}\n"
      ],
      "text/markdown": [
       "\n",
       "A tibble: 20 × 2\n",
       "\n",
       "| awardName &lt;chr&gt; | n &lt;int&gt; |\n",
       "|---|---|\n",
       "| MiLB.com Organization All-Star                | 1307 |\n",
       "| Futures Game Selection                        |  425 |\n",
       "| AFL Rising Stars                              |  316 |\n",
       "| NL All-Star                                   |  277 |\n",
       "| AL All-Star                                   |  270 |\n",
       "| FSL Mid-Season All-Star                       |  235 |\n",
       "| NL Player of the Week                         |  230 |\n",
       "| SOU Mid-Season All-Star                       |  223 |\n",
       "| MID Mid-Season All-Star                       |  222 |\n",
       "| TEX Mid-Season All-Star                       |  208 |\n",
       "| AL Player of the Week                         |  207 |\n",
       "| EAS Mid-Season All-Star                       |  206 |\n",
       "| SAL Mid-Season All-Star                       |  188 |\n",
       "| AFL All-Prospect Team                         |  164 |\n",
       "| CAL Mid-Season All-Star                       |  136 |\n",
       "| Baseball America Minor League All-Star        |  135 |\n",
       "| INT Mid-Season All-Star                       |  129 |\n",
       "| PCL Mid-Season All-Star                       |  127 |\n",
       "| World Series Championship                     |  127 |\n",
       "| Baseball America Major League All-Rookie Team |  122 |\n",
       "\n"
      ],
      "text/plain": [
       "   awardName                                     n   \n",
       "1  MiLB.com Organization All-Star                1307\n",
       "2  Futures Game Selection                         425\n",
       "3  AFL Rising Stars                               316\n",
       "4  NL All-Star                                    277\n",
       "5  AL All-Star                                    270\n",
       "6  FSL Mid-Season All-Star                        235\n",
       "7  NL Player of the Week                          230\n",
       "8  SOU Mid-Season All-Star                        223\n",
       "9  MID Mid-Season All-Star                        222\n",
       "10 TEX Mid-Season All-Star                        208\n",
       "11 AL Player of the Week                          207\n",
       "12 EAS Mid-Season All-Star                        206\n",
       "13 SAL Mid-Season All-Star                        188\n",
       "14 AFL All-Prospect Team                          164\n",
       "15 CAL Mid-Season All-Star                        136\n",
       "16 Baseball America Minor League All-Star         135\n",
       "17 INT Mid-Season All-Star                        129\n",
       "18 PCL Mid-Season All-Star                        127\n",
       "19 World Series Championship                      127\n",
       "20 Baseball America Major League All-Rookie Team  122"
      ]
     },
     "metadata": {},
     "output_type": "display_data"
    }
   ],
   "source": [
    "awards %>% \n",
    "count(awardName) %>%\n",
    "arrange(desc(n)) %>%\n",
    "head(20)"
   ]
  },
  {
   "cell_type": "markdown",
   "id": "da4f9fa6",
   "metadata": {},
   "source": [
    "small number of players have a large amount of awards"
   ]
  },
  {
   "cell_type": "code",
   "execution_count": 11,
   "id": "ba51fbb8",
   "metadata": {},
   "outputs": [
    {
     "data": {
      "text/html": [
       "<table class=\"dataframe\">\n",
       "<caption>A tibble: 20 × 3</caption>\n",
       "<thead>\n",
       "\t<tr><th scope=col>playerId</th><th scope=col>playerName</th><th scope=col>n</th></tr>\n",
       "\t<tr><th scope=col>&lt;dbl&gt;</th><th scope=col>&lt;chr&gt;</th><th scope=col>&lt;int&gt;</th></tr>\n",
       "</thead>\n",
       "<tbody>\n",
       "\t<tr><td>405395</td><td>Albert Pujols    </td><td>70</td></tr>\n",
       "\t<tr><td>545361</td><td>Mike Trout       </td><td>64</td></tr>\n",
       "\t<tr><td>408234</td><td>Miguel Cabrera   </td><td>58</td></tr>\n",
       "\t<tr><td>477132</td><td>Clayton Kershaw  </td><td>47</td></tr>\n",
       "\t<tr><td>514888</td><td>Jose Altuve      </td><td>44</td></tr>\n",
       "\t<tr><td>400085</td><td>Ichiro Suzuki    </td><td>43</td></tr>\n",
       "\t<tr><td>429664</td><td>Robinson Cano    </td><td>43</td></tr>\n",
       "\t<tr><td>502671</td><td>Paul Goldschmidt </td><td>43</td></tr>\n",
       "\t<tr><td>457705</td><td>Andrew McCutchen </td><td>42</td></tr>\n",
       "\t<tr><td>519317</td><td>Giancarlo Stanton</td><td>42</td></tr>\n",
       "\t<tr><td>408045</td><td>Joe Mauer        </td><td>40</td></tr>\n",
       "\t<tr><td>460075</td><td>Ryan Braun       </td><td>39</td></tr>\n",
       "\t<tr><td>134181</td><td>Adrian Beltre    </td><td>38</td></tr>\n",
       "\t<tr><td>456030</td><td>Dustin Pedroia   </td><td>38</td></tr>\n",
       "\t<tr><td>571448</td><td>Nolan Arenado    </td><td>38</td></tr>\n",
       "\t<tr><td>457763</td><td>Buster Posey     </td><td>37</td></tr>\n",
       "\t<tr><td>408236</td><td>Adrian Gonzalez  </td><td>36</td></tr>\n",
       "\t<tr><td>434378</td><td>Justin Verlander </td><td>36</td></tr>\n",
       "\t<tr><td>446334</td><td>Evan Longoria    </td><td>35</td></tr>\n",
       "\t<tr><td>547180</td><td>Bryce Harper     </td><td>35</td></tr>\n",
       "</tbody>\n",
       "</table>\n"
      ],
      "text/latex": [
       "A tibble: 20 × 3\n",
       "\\begin{tabular}{lll}\n",
       " playerId & playerName & n\\\\\n",
       " <dbl> & <chr> & <int>\\\\\n",
       "\\hline\n",
       "\t 405395 & Albert Pujols     & 70\\\\\n",
       "\t 545361 & Mike Trout        & 64\\\\\n",
       "\t 408234 & Miguel Cabrera    & 58\\\\\n",
       "\t 477132 & Clayton Kershaw   & 47\\\\\n",
       "\t 514888 & Jose Altuve       & 44\\\\\n",
       "\t 400085 & Ichiro Suzuki     & 43\\\\\n",
       "\t 429664 & Robinson Cano     & 43\\\\\n",
       "\t 502671 & Paul Goldschmidt  & 43\\\\\n",
       "\t 457705 & Andrew McCutchen  & 42\\\\\n",
       "\t 519317 & Giancarlo Stanton & 42\\\\\n",
       "\t 408045 & Joe Mauer         & 40\\\\\n",
       "\t 460075 & Ryan Braun        & 39\\\\\n",
       "\t 134181 & Adrian Beltre     & 38\\\\\n",
       "\t 456030 & Dustin Pedroia    & 38\\\\\n",
       "\t 571448 & Nolan Arenado     & 38\\\\\n",
       "\t 457763 & Buster Posey      & 37\\\\\n",
       "\t 408236 & Adrian Gonzalez   & 36\\\\\n",
       "\t 434378 & Justin Verlander  & 36\\\\\n",
       "\t 446334 & Evan Longoria     & 35\\\\\n",
       "\t 547180 & Bryce Harper      & 35\\\\\n",
       "\\end{tabular}\n"
      ],
      "text/markdown": [
       "\n",
       "A tibble: 20 × 3\n",
       "\n",
       "| playerId &lt;dbl&gt; | playerName &lt;chr&gt; | n &lt;int&gt; |\n",
       "|---|---|---|\n",
       "| 405395 | Albert Pujols     | 70 |\n",
       "| 545361 | Mike Trout        | 64 |\n",
       "| 408234 | Miguel Cabrera    | 58 |\n",
       "| 477132 | Clayton Kershaw   | 47 |\n",
       "| 514888 | Jose Altuve       | 44 |\n",
       "| 400085 | Ichiro Suzuki     | 43 |\n",
       "| 429664 | Robinson Cano     | 43 |\n",
       "| 502671 | Paul Goldschmidt  | 43 |\n",
       "| 457705 | Andrew McCutchen  | 42 |\n",
       "| 519317 | Giancarlo Stanton | 42 |\n",
       "| 408045 | Joe Mauer         | 40 |\n",
       "| 460075 | Ryan Braun        | 39 |\n",
       "| 134181 | Adrian Beltre     | 38 |\n",
       "| 456030 | Dustin Pedroia    | 38 |\n",
       "| 571448 | Nolan Arenado     | 38 |\n",
       "| 457763 | Buster Posey      | 37 |\n",
       "| 408236 | Adrian Gonzalez   | 36 |\n",
       "| 434378 | Justin Verlander  | 36 |\n",
       "| 446334 | Evan Longoria     | 35 |\n",
       "| 547180 | Bryce Harper      | 35 |\n",
       "\n"
      ],
      "text/plain": [
       "   playerId playerName        n \n",
       "1  405395   Albert Pujols     70\n",
       "2  545361   Mike Trout        64\n",
       "3  408234   Miguel Cabrera    58\n",
       "4  477132   Clayton Kershaw   47\n",
       "5  514888   Jose Altuve       44\n",
       "6  400085   Ichiro Suzuki     43\n",
       "7  429664   Robinson Cano     43\n",
       "8  502671   Paul Goldschmidt  43\n",
       "9  457705   Andrew McCutchen  42\n",
       "10 519317   Giancarlo Stanton 42\n",
       "11 408045   Joe Mauer         40\n",
       "12 460075   Ryan Braun        39\n",
       "13 134181   Adrian Beltre     38\n",
       "14 456030   Dustin Pedroia    38\n",
       "15 571448   Nolan Arenado     38\n",
       "16 457763   Buster Posey      37\n",
       "17 408236   Adrian Gonzalez   36\n",
       "18 434378   Justin Verlander  36\n",
       "19 446334   Evan Longoria     35\n",
       "20 547180   Bryce Harper      35"
      ]
     },
     "metadata": {},
     "output_type": "display_data"
    }
   ],
   "source": [
    "awards %>% \n",
    "count(playerId, playerName) %>%\n",
    "arrange(desc(n)) %>%\n",
    "head(20)"
   ]
  },
  {
   "cell_type": "code",
   "execution_count": 24,
   "id": "94ed68d0",
   "metadata": {},
   "outputs": [
    {
     "data": {
      "image/png": "[encoded data removed]",
      "text/plain": [
       "plot without title"
      ]
     },
     "metadata": {
      "image/png": {
       "height": 420,
       "width": 420
      },
      "text/plain": {
       "height": 420,
       "width": 420
      }
     },
     "output_type": "display_data"
    }
   ],
   "source": [
    "awards %>% \n",
    "count(playerId, playerName) %>%\n",
    "ggplot()+\n",
    "geom_bar(aes(x=fct_reorder(as.factor(playerId),-n), y=n), stat='identity')"
   ]
  },
  {
   "cell_type": "code",
   "execution_count": null,
   "id": "d09cf17e",
   "metadata": {},
   "outputs": [],
   "source": []
  },
  {
   "cell_type": "code",
   "execution_count": 15,
   "id": "78046509",
   "metadata": {},
   "outputs": [
    {
     "data": {
      "text/html": [
       "<table class=\"dataframe\">\n",
       "<caption>A tibble: 20 × 3</caption>\n",
       "<thead>\n",
       "\t<tr><th scope=col>playerId</th><th scope=col>playerName</th><th scope=col>n</th></tr>\n",
       "\t<tr><th scope=col>&lt;dbl&gt;</th><th scope=col>&lt;chr&gt;</th><th scope=col>&lt;int&gt;</th></tr>\n",
       "</thead>\n",
       "<tbody>\n",
       "\t<tr><td>405395</td><td>Albert Pujols    </td><td>70</td></tr>\n",
       "\t<tr><td>545361</td><td>Mike Trout       </td><td>64</td></tr>\n",
       "\t<tr><td>408234</td><td>Miguel Cabrera   </td><td>58</td></tr>\n",
       "\t<tr><td>477132</td><td>Clayton Kershaw  </td><td>47</td></tr>\n",
       "\t<tr><td>514888</td><td>Jose Altuve      </td><td>44</td></tr>\n",
       "\t<tr><td>400085</td><td>Ichiro Suzuki    </td><td>43</td></tr>\n",
       "\t<tr><td>429664</td><td>Robinson Cano    </td><td>43</td></tr>\n",
       "\t<tr><td>502671</td><td>Paul Goldschmidt </td><td>43</td></tr>\n",
       "\t<tr><td>457705</td><td>Andrew McCutchen </td><td>42</td></tr>\n",
       "\t<tr><td>519317</td><td>Giancarlo Stanton</td><td>42</td></tr>\n",
       "\t<tr><td>408045</td><td>Joe Mauer        </td><td>40</td></tr>\n",
       "\t<tr><td>460075</td><td>Ryan Braun       </td><td>39</td></tr>\n",
       "\t<tr><td>134181</td><td>Adrian Beltre    </td><td>38</td></tr>\n",
       "\t<tr><td>456030</td><td>Dustin Pedroia   </td><td>38</td></tr>\n",
       "\t<tr><td>571448</td><td>Nolan Arenado    </td><td>38</td></tr>\n",
       "\t<tr><td>457763</td><td>Buster Posey     </td><td>37</td></tr>\n",
       "\t<tr><td>408236</td><td>Adrian Gonzalez  </td><td>36</td></tr>\n",
       "\t<tr><td>434378</td><td>Justin Verlander </td><td>36</td></tr>\n",
       "\t<tr><td>446334</td><td>Evan Longoria    </td><td>35</td></tr>\n",
       "\t<tr><td>547180</td><td>Bryce Harper     </td><td>35</td></tr>\n",
       "</tbody>\n",
       "</table>\n"
      ],
      "text/latex": [
       "A tibble: 20 × 3\n",
       "\\begin{tabular}{lll}\n",
       " playerId & playerName & n\\\\\n",
       " <dbl> & <chr> & <int>\\\\\n",
       "\\hline\n",
       "\t 405395 & Albert Pujols     & 70\\\\\n",
       "\t 545361 & Mike Trout        & 64\\\\\n",
       "\t 408234 & Miguel Cabrera    & 58\\\\\n",
       "\t 477132 & Clayton Kershaw   & 47\\\\\n",
       "\t 514888 & Jose Altuve       & 44\\\\\n",
       "\t 400085 & Ichiro Suzuki     & 43\\\\\n",
       "\t 429664 & Robinson Cano     & 43\\\\\n",
       "\t 502671 & Paul Goldschmidt  & 43\\\\\n",
       "\t 457705 & Andrew McCutchen  & 42\\\\\n",
       "\t 519317 & Giancarlo Stanton & 42\\\\\n",
       "\t 408045 & Joe Mauer         & 40\\\\\n",
       "\t 460075 & Ryan Braun        & 39\\\\\n",
       "\t 134181 & Adrian Beltre     & 38\\\\\n",
       "\t 456030 & Dustin Pedroia    & 38\\\\\n",
       "\t 571448 & Nolan Arenado     & 38\\\\\n",
       "\t 457763 & Buster Posey      & 37\\\\\n",
       "\t 408236 & Adrian Gonzalez   & 36\\\\\n",
       "\t 434378 & Justin Verlander  & 36\\\\\n",
       "\t 446334 & Evan Longoria     & 35\\\\\n",
       "\t 547180 & Bryce Harper      & 35\\\\\n",
       "\\end{tabular}\n"
      ],
      "text/markdown": [
       "\n",
       "A tibble: 20 × 3\n",
       "\n",
       "| playerId &lt;dbl&gt; | playerName &lt;chr&gt; | n &lt;int&gt; |\n",
       "|---|---|---|\n",
       "| 405395 | Albert Pujols     | 70 |\n",
       "| 545361 | Mike Trout        | 64 |\n",
       "| 408234 | Miguel Cabrera    | 58 |\n",
       "| 477132 | Clayton Kershaw   | 47 |\n",
       "| 514888 | Jose Altuve       | 44 |\n",
       "| 400085 | Ichiro Suzuki     | 43 |\n",
       "| 429664 | Robinson Cano     | 43 |\n",
       "| 502671 | Paul Goldschmidt  | 43 |\n",
       "| 457705 | Andrew McCutchen  | 42 |\n",
       "| 519317 | Giancarlo Stanton | 42 |\n",
       "| 408045 | Joe Mauer         | 40 |\n",
       "| 460075 | Ryan Braun        | 39 |\n",
       "| 134181 | Adrian Beltre     | 38 |\n",
       "| 456030 | Dustin Pedroia    | 38 |\n",
       "| 571448 | Nolan Arenado     | 38 |\n",
       "| 457763 | Buster Posey      | 37 |\n",
       "| 408236 | Adrian Gonzalez   | 36 |\n",
       "| 434378 | Justin Verlander  | 36 |\n",
       "| 446334 | Evan Longoria     | 35 |\n",
       "| 547180 | Bryce Harper      | 35 |\n",
       "\n"
      ],
      "text/plain": [
       "   playerId playerName        n \n",
       "1  405395   Albert Pujols     70\n",
       "2  545361   Mike Trout        64\n",
       "3  408234   Miguel Cabrera    58\n",
       "4  477132   Clayton Kershaw   47\n",
       "5  514888   Jose Altuve       44\n",
       "6  400085   Ichiro Suzuki     43\n",
       "7  429664   Robinson Cano     43\n",
       "8  502671   Paul Goldschmidt  43\n",
       "9  457705   Andrew McCutchen  42\n",
       "10 519317   Giancarlo Stanton 42\n",
       "11 408045   Joe Mauer         40\n",
       "12 460075   Ryan Braun        39\n",
       "13 134181   Adrian Beltre     38\n",
       "14 456030   Dustin Pedroia    38\n",
       "15 571448   Nolan Arenado     38\n",
       "16 457763   Buster Posey      37\n",
       "17 408236   Adrian Gonzalez   36\n",
       "18 434378   Justin Verlander  36\n",
       "19 446334   Evan Longoria     35\n",
       "20 547180   Bryce Harper      35"
      ]
     },
     "metadata": {},
     "output_type": "display_data"
    }
   ],
   "source": [
    "awards %>% \n",
    "count(playerId, playerName) %>%\n",
    "arrange(desc(n)) %>%\n",
    "head(20)"
   ]
  },
  {
   "cell_type": "markdown",
   "id": "91b4743b",
   "metadata": {},
   "source": [
    "#### Possible features:"
   ]
  },
  {
   "cell_type": "markdown",
   "id": "a72ba747",
   "metadata": {},
   "source": [
    "* Total awards\n",
    "* Season awards\n",
    "* Time since last award received\n",
    "* Time until next award possibility\n",
    "* Time since last award possibility\n",
    "* Team awards"
   ]
  },
  {
   "cell_type": "markdown",
   "id": "4f55227c",
   "metadata": {},
   "source": [
    "#### Possible relationship with target\n",
    "\n",
    "* More awards likely correlated with social media followers\n",
    "* Recent awards likely to spark discussion\n",
    "* possibility of award likely to spark discussion"
   ]
  },
  {
   "cell_type": "markdown",
   "id": "ff5e1df9",
   "metadata": {},
   "source": [
    "### players.csv"
   ]
  },
  {
   "cell_type": "code",
   "execution_count": 35,
   "id": "befa0230",
   "metadata": {},
   "outputs": [
    {
     "name": "stderr",
     "output_type": "stream",
     "text": [
      "\n",
      "\u001b[36m──\u001b[39m \u001b[1m\u001b[1mColumn specification\u001b[1m\u001b[22m \u001b[36m────────────────────────────────────────────────────────\u001b[39m\n",
      "cols(\n",
      "  playerId = \u001b[32mcol_double()\u001b[39m,\n",
      "  playerName = \u001b[31mcol_character()\u001b[39m,\n",
      "  DOB = \u001b[34mcol_date(format = \"\")\u001b[39m,\n",
      "  mlbDebutDate = \u001b[34mcol_date(format = \"\")\u001b[39m,\n",
      "  birthCity = \u001b[31mcol_character()\u001b[39m,\n",
      "  birthStateProvince = \u001b[31mcol_character()\u001b[39m,\n",
      "  birthCountry = \u001b[31mcol_character()\u001b[39m,\n",
      "  heightInches = \u001b[32mcol_double()\u001b[39m,\n",
      "  weight = \u001b[32mcol_double()\u001b[39m,\n",
      "  primaryPositionCode = \u001b[31mcol_character()\u001b[39m,\n",
      "  primaryPositionName = \u001b[31mcol_character()\u001b[39m,\n",
      "  playerForTestSetAndFuturePreds = \u001b[33mcol_logical()\u001b[39m\n",
      ")\n",
      "\n",
      "\n"
     ]
    }
   ],
   "source": [
    "players <- read_csv('raw_data/players.csv')"
   ]
  },
  {
   "cell_type": "code",
   "execution_count": 47,
   "id": "8ef42d34",
   "metadata": {},
   "outputs": [
    {
     "data": {
      "text/html": [
       "<table class=\"dataframe\">\n",
       "<caption>A tibble: 6 × 12</caption>\n",
       "<thead>\n",
       "\t<tr><th scope=col>playerId</th><th scope=col>playerName</th><th scope=col>DOB</th><th scope=col>mlbDebutDate</th><th scope=col>birthCity</th><th scope=col>birthStateProvince</th><th scope=col>birthCountry</th><th scope=col>heightInches</th><th scope=col>weight</th><th scope=col>primaryPositionCode</th><th scope=col>primaryPositionName</th><th scope=col>playerForTestSetAndFuturePreds</th></tr>\n",
       "\t<tr><th scope=col>&lt;dbl&gt;</th><th scope=col>&lt;chr&gt;</th><th scope=col>&lt;date&gt;</th><th scope=col>&lt;date&gt;</th><th scope=col>&lt;chr&gt;</th><th scope=col>&lt;chr&gt;</th><th scope=col>&lt;chr&gt;</th><th scope=col>&lt;dbl&gt;</th><th scope=col>&lt;dbl&gt;</th><th scope=col>&lt;chr&gt;</th><th scope=col>&lt;chr&gt;</th><th scope=col>&lt;lgl&gt;</th></tr>\n",
       "</thead>\n",
       "<tbody>\n",
       "\t<tr><td>665482</td><td>Gilberto Celestino</td><td>1999-02-13</td><td>2021-06-02</td><td>Santo Domingo      </td><td>NA</td><td>Dominican Republic</td><td>72</td><td>170</td><td>8</td><td>Outfielder </td><td>FALSE</td></tr>\n",
       "\t<tr><td>593590</td><td>Webster Rivas     </td><td>1990-08-08</td><td>2021-05-28</td><td>Nagua              </td><td>NA</td><td>Dominican Republic</td><td>73</td><td>219</td><td>3</td><td>First Base </td><td> TRUE</td></tr>\n",
       "\t<tr><td>661269</td><td>Vladimir Gutierrez</td><td>1995-09-18</td><td>2021-05-28</td><td>Havana             </td><td>NA</td><td>Cuba              </td><td>73</td><td>190</td><td>1</td><td>Pitcher    </td><td> TRUE</td></tr>\n",
       "\t<tr><td>669212</td><td>Eli Morgan        </td><td>1996-05-13</td><td>2021-05-28</td><td>Rancho Palos Verdes</td><td>CA</td><td>USA               </td><td>70</td><td>190</td><td>1</td><td>Pitcher    </td><td> TRUE</td></tr>\n",
       "\t<tr><td>666201</td><td>Alek Manoah       </td><td>1998-01-09</td><td>2021-05-27</td><td>Homestead          </td><td>FL</td><td>USA               </td><td>78</td><td>260</td><td>1</td><td>Pitcher    </td><td> TRUE</td></tr>\n",
       "\t<tr><td>680911</td><td>Owen Miller       </td><td>1996-11-15</td><td>2021-05-23</td><td>Mequon             </td><td>WI</td><td>USA               </td><td>72</td><td>185</td><td>4</td><td>Second Base</td><td> TRUE</td></tr>\n",
       "</tbody>\n",
       "</table>\n"
      ],
      "text/latex": [
       "A tibble: 6 × 12\n",
       "\\begin{tabular}{llllllllllll}\n",
       " playerId & playerName & DOB & mlbDebutDate & birthCity & birthStateProvince & birthCountry & heightInches & weight & primaryPositionCode & primaryPositionName & playerForTestSetAndFuturePreds\\\\\n",
       " <dbl> & <chr> & <date> & <date> & <chr> & <chr> & <chr> & <dbl> & <dbl> & <chr> & <chr> & <lgl>\\\\\n",
       "\\hline\n",
       "\t 665482 & Gilberto Celestino & 1999-02-13 & 2021-06-02 & Santo Domingo       & NA & Dominican Republic & 72 & 170 & 8 & Outfielder  & FALSE\\\\\n",
       "\t 593590 & Webster Rivas      & 1990-08-08 & 2021-05-28 & Nagua               & NA & Dominican Republic & 73 & 219 & 3 & First Base  &  TRUE\\\\\n",
       "\t 661269 & Vladimir Gutierrez & 1995-09-18 & 2021-05-28 & Havana              & NA & Cuba               & 73 & 190 & 1 & Pitcher     &  TRUE\\\\\n",
       "\t 669212 & Eli Morgan         & 1996-05-13 & 2021-05-28 & Rancho Palos Verdes & CA & USA                & 70 & 190 & 1 & Pitcher     &  TRUE\\\\\n",
       "\t 666201 & Alek Manoah        & 1998-01-09 & 2021-05-27 & Homestead           & FL & USA                & 78 & 260 & 1 & Pitcher     &  TRUE\\\\\n",
       "\t 680911 & Owen Miller        & 1996-11-15 & 2021-05-23 & Mequon              & WI & USA                & 72 & 185 & 4 & Second Base &  TRUE\\\\\n",
       "\\end{tabular}\n"
      ],
      "text/markdown": [
       "\n",
       "A tibble: 6 × 12\n",
       "\n",
       "| playerId &lt;dbl&gt; | playerName &lt;chr&gt; | DOB &lt;date&gt; | mlbDebutDate &lt;date&gt; | birthCity &lt;chr&gt; | birthStateProvince &lt;chr&gt; | birthCountry &lt;chr&gt; | heightInches &lt;dbl&gt; | weight &lt;dbl&gt; | primaryPositionCode &lt;chr&gt; | primaryPositionName &lt;chr&gt; | playerForTestSetAndFuturePreds &lt;lgl&gt; |\n",
       "|---|---|---|---|---|---|---|---|---|---|---|---|\n",
       "| 665482 | Gilberto Celestino | 1999-02-13 | 2021-06-02 | Santo Domingo       | NA | Dominican Republic | 72 | 170 | 8 | Outfielder  | FALSE |\n",
       "| 593590 | Webster Rivas      | 1990-08-08 | 2021-05-28 | Nagua               | NA | Dominican Republic | 73 | 219 | 3 | First Base  |  TRUE |\n",
       "| 661269 | Vladimir Gutierrez | 1995-09-18 | 2021-05-28 | Havana              | NA | Cuba               | 73 | 190 | 1 | Pitcher     |  TRUE |\n",
       "| 669212 | Eli Morgan         | 1996-05-13 | 2021-05-28 | Rancho Palos Verdes | CA | USA                | 70 | 190 | 1 | Pitcher     |  TRUE |\n",
       "| 666201 | Alek Manoah        | 1998-01-09 | 2021-05-27 | Homestead           | FL | USA                | 78 | 260 | 1 | Pitcher     |  TRUE |\n",
       "| 680911 | Owen Miller        | 1996-11-15 | 2021-05-23 | Mequon              | WI | USA                | 72 | 185 | 4 | Second Base |  TRUE |\n",
       "\n"
      ],
      "text/plain": [
       "  playerId playerName         DOB        mlbDebutDate birthCity          \n",
       "1 665482   Gilberto Celestino 1999-02-13 2021-06-02   Santo Domingo      \n",
       "2 593590   Webster Rivas      1990-08-08 2021-05-28   Nagua              \n",
       "3 661269   Vladimir Gutierrez 1995-09-18 2021-05-28   Havana             \n",
       "4 669212   Eli Morgan         1996-05-13 2021-05-28   Rancho Palos Verdes\n",
       "5 666201   Alek Manoah        1998-01-09 2021-05-27   Homestead          \n",
       "6 680911   Owen Miller        1996-11-15 2021-05-23   Mequon             \n",
       "  birthStateProvince birthCountry       heightInches weight primaryPositionCode\n",
       "1 NA                 Dominican Republic 72           170    8                  \n",
       "2 NA                 Dominican Republic 73           219    3                  \n",
       "3 NA                 Cuba               73           190    1                  \n",
       "4 CA                 USA                70           190    1                  \n",
       "5 FL                 USA                78           260    1                  \n",
       "6 WI                 USA                72           185    4                  \n",
       "  primaryPositionName playerForTestSetAndFuturePreds\n",
       "1 Outfielder          FALSE                         \n",
       "2 First Base           TRUE                         \n",
       "3 Pitcher              TRUE                         \n",
       "4 Pitcher              TRUE                         \n",
       "5 Pitcher              TRUE                         \n",
       "6 Second Base          TRUE                         "
      ]
     },
     "metadata": {},
     "output_type": "display_data"
    }
   ],
   "source": [
    "head(players)"
   ]
  },
  {
   "cell_type": "code",
   "execution_count": 49,
   "id": "dda866eb",
   "metadata": {},
   "outputs": [],
   "source": [
    "players_target <- target %>%\n",
    "left_join(players, by = c('playerId'='playerId'))"
   ]
  },
  {
   "cell_type": "code",
   "execution_count": 104,
   "id": "f108533e",
   "metadata": {},
   "outputs": [],
   "source": [
    "player_sum_target <- players_target %>%\n",
    "group_by(playerName) %>% \n",
    "summarise(across(starts_with('target'), sum)) "
   ]
  },
  {
   "cell_type": "markdown",
   "id": "6a43945c",
   "metadata": {},
   "source": [
    "top players by sum of target variable:"
   ]
  },
  {
   "cell_type": "code",
   "execution_count": 105,
   "id": "7e5965ea",
   "metadata": {},
   "outputs": [
    {
     "data": {
      "text/html": [
       "<table class=\"dataframe\">\n",
       "<caption>A tibble: 6 × 9</caption>\n",
       "<thead>\n",
       "\t<tr><th scope=col>playerName</th><th scope=col>target1</th><th scope=col>target2</th><th scope=col>target3</th><th scope=col>target4</th><th scope=col>target1_rank</th><th scope=col>target2_rank</th><th scope=col>target3_rank</th><th scope=col>target4_rank</th></tr>\n",
       "\t<tr><th scope=col>&lt;chr&gt;</th><th scope=col>&lt;dbl&gt;</th><th scope=col>&lt;dbl&gt;</th><th scope=col>&lt;dbl&gt;</th><th scope=col>&lt;dbl&gt;</th><th scope=col>&lt;int&gt;</th><th scope=col>&lt;int&gt;</th><th scope=col>&lt;int&gt;</th><th scope=col>&lt;int&gt;</th></tr>\n",
       "</thead>\n",
       "<tbody>\n",
       "\t<tr><td>Aaron Judge      </td><td>18121.49</td><td>27994.79</td><td>18007.01</td><td>24895.101</td><td>1</td><td> 5</td><td> 2</td><td> 7</td></tr>\n",
       "\t<tr><td>Mookie Betts     </td><td>15475.09</td><td>28719.31</td><td>16487.89</td><td>25620.939</td><td>2</td><td> 4</td><td> 3</td><td> 6</td></tr>\n",
       "\t<tr><td>Mike Trout       </td><td>15210.13</td><td>43045.83</td><td>14937.05</td><td>39082.305</td><td>3</td><td> 1</td><td> 5</td><td> 1</td></tr>\n",
       "\t<tr><td>Ronald Acuna Jr. </td><td>13355.40</td><td>22765.22</td><td>12500.43</td><td> 7368.678</td><td>4</td><td>14</td><td> 9</td><td>69</td></tr>\n",
       "\t<tr><td>Giancarlo Stanton</td><td>13281.97</td><td>24876.12</td><td>13929.64</td><td>19898.316</td><td>5</td><td> 9</td><td> 6</td><td>10</td></tr>\n",
       "\t<tr><td>Javier Baez      </td><td>13052.59</td><td>16774.80</td><td>11344.64</td><td> 7341.937</td><td>6</td><td>26</td><td>11</td><td>70</td></tr>\n",
       "</tbody>\n",
       "</table>\n"
      ],
      "text/latex": [
       "A tibble: 6 × 9\n",
       "\\begin{tabular}{lllllllll}\n",
       " playerName & target1 & target2 & target3 & target4 & target1\\_rank & target2\\_rank & target3\\_rank & target4\\_rank\\\\\n",
       " <chr> & <dbl> & <dbl> & <dbl> & <dbl> & <int> & <int> & <int> & <int>\\\\\n",
       "\\hline\n",
       "\t Aaron Judge       & 18121.49 & 27994.79 & 18007.01 & 24895.101 & 1 &  5 &  2 &  7\\\\\n",
       "\t Mookie Betts      & 15475.09 & 28719.31 & 16487.89 & 25620.939 & 2 &  4 &  3 &  6\\\\\n",
       "\t Mike Trout        & 15210.13 & 43045.83 & 14937.05 & 39082.305 & 3 &  1 &  5 &  1\\\\\n",
       "\t Ronald Acuna Jr.  & 13355.40 & 22765.22 & 12500.43 &  7368.678 & 4 & 14 &  9 & 69\\\\\n",
       "\t Giancarlo Stanton & 13281.97 & 24876.12 & 13929.64 & 19898.316 & 5 &  9 &  6 & 10\\\\\n",
       "\t Javier Baez       & 13052.59 & 16774.80 & 11344.64 &  7341.937 & 6 & 26 & 11 & 70\\\\\n",
       "\\end{tabular}\n"
      ],
      "text/markdown": [
       "\n",
       "A tibble: 6 × 9\n",
       "\n",
       "| playerName &lt;chr&gt; | target1 &lt;dbl&gt; | target2 &lt;dbl&gt; | target3 &lt;dbl&gt; | target4 &lt;dbl&gt; | target1_rank &lt;int&gt; | target2_rank &lt;int&gt; | target3_rank &lt;int&gt; | target4_rank &lt;int&gt; |\n",
       "|---|---|---|---|---|---|---|---|---|\n",
       "| Aaron Judge       | 18121.49 | 27994.79 | 18007.01 | 24895.101 | 1 |  5 |  2 |  7 |\n",
       "| Mookie Betts      | 15475.09 | 28719.31 | 16487.89 | 25620.939 | 2 |  4 |  3 |  6 |\n",
       "| Mike Trout        | 15210.13 | 43045.83 | 14937.05 | 39082.305 | 3 |  1 |  5 |  1 |\n",
       "| Ronald Acuna Jr.  | 13355.40 | 22765.22 | 12500.43 |  7368.678 | 4 | 14 |  9 | 69 |\n",
       "| Giancarlo Stanton | 13281.97 | 24876.12 | 13929.64 | 19898.316 | 5 |  9 |  6 | 10 |\n",
       "| Javier Baez       | 13052.59 | 16774.80 | 11344.64 |  7341.937 | 6 | 26 | 11 | 70 |\n",
       "\n"
      ],
      "text/plain": [
       "  playerName        target1  target2  target3  target4   target1_rank\n",
       "1 Aaron Judge       18121.49 27994.79 18007.01 24895.101 1           \n",
       "2 Mookie Betts      15475.09 28719.31 16487.89 25620.939 2           \n",
       "3 Mike Trout        15210.13 43045.83 14937.05 39082.305 3           \n",
       "4 Ronald Acuna Jr.  13355.40 22765.22 12500.43  7368.678 4           \n",
       "5 Giancarlo Stanton 13281.97 24876.12 13929.64 19898.316 5           \n",
       "6 Javier Baez       13052.59 16774.80 11344.64  7341.937 6           \n",
       "  target2_rank target3_rank target4_rank\n",
       "1  5            2            7          \n",
       "2  4            3            6          \n",
       "3  1            5            1          \n",
       "4 14            9           69          \n",
       "5  9            6           10          \n",
       "6 26           11           70          "
      ]
     },
     "metadata": {},
     "output_type": "display_data"
    }
   ],
   "source": [
    "player_sum_target %>%\n",
    "mutate(across(starts_with('target'), ~dense_rank(desc(.x)),`.names` = '{col}_rank')) %>%\n",
    "arrange(target1_rank) %>%\n",
    "head()"
   ]
  },
  {
   "cell_type": "markdown",
   "id": "9299bc5f",
   "metadata": {},
   "source": [
    "Designated hitter had highest average target, infield lowest"
   ]
  },
  {
   "cell_type": "code",
   "execution_count": 107,
   "id": "e01dc80b",
   "metadata": {},
   "outputs": [],
   "source": [
    "position_avg_target <- players_target %>%\n",
    "group_by(primaryPositionName) %>% \n",
    "summarise(across(starts_with('target'), mean)) "
   ]
  },
  {
   "cell_type": "code",
   "execution_count": 108,
   "id": "b4ec4a76",
   "metadata": {},
   "outputs": [
    {
     "data": {
      "text/html": [
       "<table class=\"dataframe\">\n",
       "<caption>A tibble: 10 × 9</caption>\n",
       "<thead>\n",
       "\t<tr><th scope=col>primaryPositionName</th><th scope=col>target1</th><th scope=col>target2</th><th scope=col>target3</th><th scope=col>target4</th><th scope=col>target1_rank</th><th scope=col>target2_rank</th><th scope=col>target3_rank</th><th scope=col>target4_rank</th></tr>\n",
       "\t<tr><th scope=col>&lt;chr&gt;</th><th scope=col>&lt;dbl&gt;</th><th scope=col>&lt;dbl&gt;</th><th scope=col>&lt;dbl&gt;</th><th scope=col>&lt;dbl&gt;</th><th scope=col>&lt;int&gt;</th><th scope=col>&lt;int&gt;</th><th scope=col>&lt;int&gt;</th><th scope=col>&lt;int&gt;</th></tr>\n",
       "</thead>\n",
       "<tbody>\n",
       "\t<tr><td>Designated Hitter</td><td>3.02740129</td><td>7.5376834</td><td>3.298173981</td><td>4.8512828</td><td> 1</td><td> 1</td><td> 1</td><td> 1</td></tr>\n",
       "\t<tr><td>First Base       </td><td>1.33810167</td><td>4.3755343</td><td>1.217360162</td><td>2.2326609</td><td> 2</td><td> 2</td><td> 2</td><td> 2</td></tr>\n",
       "\t<tr><td>Outfielder       </td><td>1.15639489</td><td>3.6884507</td><td>1.139378689</td><td>1.8898057</td><td> 3</td><td> 3</td><td> 3</td><td> 3</td></tr>\n",
       "\t<tr><td>Shortstop        </td><td>1.08642867</td><td>3.1043986</td><td>0.994011839</td><td>1.3909240</td><td> 4</td><td> 5</td><td> 5</td><td> 5</td></tr>\n",
       "\t<tr><td>Third Base       </td><td>1.00352114</td><td>3.3777298</td><td>1.048349628</td><td>1.7461691</td><td> 5</td><td> 4</td><td> 4</td><td> 4</td></tr>\n",
       "\t<tr><td>Second Base      </td><td>0.78023684</td><td>2.9015945</td><td>0.757066702</td><td>1.3175468</td><td> 6</td><td> 6</td><td> 6</td><td> 6</td></tr>\n",
       "\t<tr><td>Catcher          </td><td>0.49961088</td><td>1.9007636</td><td>0.525061283</td><td>0.9386558</td><td> 7</td><td> 7</td><td> 7</td><td> 8</td></tr>\n",
       "\t<tr><td>Outfield         </td><td>0.44009041</td><td>1.7307936</td><td>0.446088560</td><td>0.9416388</td><td> 8</td><td> 9</td><td> 9</td><td> 7</td></tr>\n",
       "\t<tr><td>Pitcher          </td><td>0.26152218</td><td>1.8891006</td><td>0.487233737</td><td>0.7853418</td><td> 9</td><td> 8</td><td> 8</td><td> 9</td></tr>\n",
       "\t<tr><td>Infield          </td><td>0.02022117</td><td>0.3181766</td><td>0.004147499</td><td>0.1624046</td><td>10</td><td>10</td><td>10</td><td>10</td></tr>\n",
       "</tbody>\n",
       "</table>\n"
      ],
      "text/latex": [
       "A tibble: 10 × 9\n",
       "\\begin{tabular}{lllllllll}\n",
       " primaryPositionName & target1 & target2 & target3 & target4 & target1\\_rank & target2\\_rank & target3\\_rank & target4\\_rank\\\\\n",
       " <chr> & <dbl> & <dbl> & <dbl> & <dbl> & <int> & <int> & <int> & <int>\\\\\n",
       "\\hline\n",
       "\t Designated Hitter & 3.02740129 & 7.5376834 & 3.298173981 & 4.8512828 &  1 &  1 &  1 &  1\\\\\n",
       "\t First Base        & 1.33810167 & 4.3755343 & 1.217360162 & 2.2326609 &  2 &  2 &  2 &  2\\\\\n",
       "\t Outfielder        & 1.15639489 & 3.6884507 & 1.139378689 & 1.8898057 &  3 &  3 &  3 &  3\\\\\n",
       "\t Shortstop         & 1.08642867 & 3.1043986 & 0.994011839 & 1.3909240 &  4 &  5 &  5 &  5\\\\\n",
       "\t Third Base        & 1.00352114 & 3.3777298 & 1.048349628 & 1.7461691 &  5 &  4 &  4 &  4\\\\\n",
       "\t Second Base       & 0.78023684 & 2.9015945 & 0.757066702 & 1.3175468 &  6 &  6 &  6 &  6\\\\\n",
       "\t Catcher           & 0.49961088 & 1.9007636 & 0.525061283 & 0.9386558 &  7 &  7 &  7 &  8\\\\\n",
       "\t Outfield          & 0.44009041 & 1.7307936 & 0.446088560 & 0.9416388 &  8 &  9 &  9 &  7\\\\\n",
       "\t Pitcher           & 0.26152218 & 1.8891006 & 0.487233737 & 0.7853418 &  9 &  8 &  8 &  9\\\\\n",
       "\t Infield           & 0.02022117 & 0.3181766 & 0.004147499 & 0.1624046 & 10 & 10 & 10 & 10\\\\\n",
       "\\end{tabular}\n"
      ],
      "text/markdown": [
       "\n",
       "A tibble: 10 × 9\n",
       "\n",
       "| primaryPositionName &lt;chr&gt; | target1 &lt;dbl&gt; | target2 &lt;dbl&gt; | target3 &lt;dbl&gt; | target4 &lt;dbl&gt; | target1_rank &lt;int&gt; | target2_rank &lt;int&gt; | target3_rank &lt;int&gt; | target4_rank &lt;int&gt; |\n",
       "|---|---|---|---|---|---|---|---|---|\n",
       "| Designated Hitter | 3.02740129 | 7.5376834 | 3.298173981 | 4.8512828 |  1 |  1 |  1 |  1 |\n",
       "| First Base        | 1.33810167 | 4.3755343 | 1.217360162 | 2.2326609 |  2 |  2 |  2 |  2 |\n",
       "| Outfielder        | 1.15639489 | 3.6884507 | 1.139378689 | 1.8898057 |  3 |  3 |  3 |  3 |\n",
       "| Shortstop         | 1.08642867 | 3.1043986 | 0.994011839 | 1.3909240 |  4 |  5 |  5 |  5 |\n",
       "| Third Base        | 1.00352114 | 3.3777298 | 1.048349628 | 1.7461691 |  5 |  4 |  4 |  4 |\n",
       "| Second Base       | 0.78023684 | 2.9015945 | 0.757066702 | 1.3175468 |  6 |  6 |  6 |  6 |\n",
       "| Catcher           | 0.49961088 | 1.9007636 | 0.525061283 | 0.9386558 |  7 |  7 |  7 |  8 |\n",
       "| Outfield          | 0.44009041 | 1.7307936 | 0.446088560 | 0.9416388 |  8 |  9 |  9 |  7 |\n",
       "| Pitcher           | 0.26152218 | 1.8891006 | 0.487233737 | 0.7853418 |  9 |  8 |  8 |  9 |\n",
       "| Infield           | 0.02022117 | 0.3181766 | 0.004147499 | 0.1624046 | 10 | 10 | 10 | 10 |\n",
       "\n"
      ],
      "text/plain": [
       "   primaryPositionName target1    target2   target3     target4   target1_rank\n",
       "1  Designated Hitter   3.02740129 7.5376834 3.298173981 4.8512828  1          \n",
       "2  First Base          1.33810167 4.3755343 1.217360162 2.2326609  2          \n",
       "3  Outfielder          1.15639489 3.6884507 1.139378689 1.8898057  3          \n",
       "4  Shortstop           1.08642867 3.1043986 0.994011839 1.3909240  4          \n",
       "5  Third Base          1.00352114 3.3777298 1.048349628 1.7461691  5          \n",
       "6  Second Base         0.78023684 2.9015945 0.757066702 1.3175468  6          \n",
       "7  Catcher             0.49961088 1.9007636 0.525061283 0.9386558  7          \n",
       "8  Outfield            0.44009041 1.7307936 0.446088560 0.9416388  8          \n",
       "9  Pitcher             0.26152218 1.8891006 0.487233737 0.7853418  9          \n",
       "10 Infield             0.02022117 0.3181766 0.004147499 0.1624046 10          \n",
       "   target2_rank target3_rank target4_rank\n",
       "1   1            1            1          \n",
       "2   2            2            2          \n",
       "3   3            3            3          \n",
       "4   5            5            5          \n",
       "5   4            4            4          \n",
       "6   6            6            6          \n",
       "7   7            7            8          \n",
       "8   9            9            7          \n",
       "9   8            8            9          \n",
       "10 10           10           10          "
      ]
     },
     "metadata": {},
     "output_type": "display_data"
    }
   ],
   "source": [
    "position_avg_target %>%\n",
    "mutate(across(starts_with('target'), ~dense_rank(desc(.x)),`.names` = '{col}_rank')) %>%\n",
    "arrange(target1_rank)"
   ]
  },
  {
   "cell_type": "markdown",
   "id": "94d2e804",
   "metadata": {},
   "source": [
    "Quebec had highest target"
   ]
  },
  {
   "cell_type": "code",
   "execution_count": 109,
   "id": "01d5277b",
   "metadata": {},
   "outputs": [],
   "source": [
    "state_avg_target <- players_target %>%\n",
    "group_by(birthStateProvince) %>% \n",
    "summarise(across(starts_with('target'), mean)) "
   ]
  },
  {
   "cell_type": "code",
   "execution_count": 111,
   "id": "4fb7e874",
   "metadata": {},
   "outputs": [
    {
     "data": {
      "text/html": [
       "<table class=\"dataframe\">\n",
       "<caption>A tibble: 6 × 9</caption>\n",
       "<thead>\n",
       "\t<tr><th scope=col>birthStateProvince</th><th scope=col>target1</th><th scope=col>target2</th><th scope=col>target3</th><th scope=col>target4</th><th scope=col>target1_rank</th><th scope=col>target2_rank</th><th scope=col>target3_rank</th><th scope=col>target4_rank</th></tr>\n",
       "\t<tr><th scope=col>&lt;chr&gt;</th><th scope=col>&lt;dbl&gt;</th><th scope=col>&lt;dbl&gt;</th><th scope=col>&lt;dbl&gt;</th><th scope=col>&lt;dbl&gt;</th><th scope=col>&lt;int&gt;</th><th scope=col>&lt;int&gt;</th><th scope=col>&lt;int&gt;</th><th scope=col>&lt;int&gt;</th></tr>\n",
       "</thead>\n",
       "<tbody>\n",
       "\t<tr><td>QC</td><td>2.819892</td><td>7.889064</td><td>2.620009</td><td>5.135369</td><td>1</td><td>1</td><td>1</td><td> 1</td></tr>\n",
       "\t<tr><td>WY</td><td>1.869066</td><td>6.100271</td><td>1.439937</td><td>1.801384</td><td>2</td><td>2</td><td>6</td><td> 8</td></tr>\n",
       "\t<tr><td>NM</td><td>1.459821</td><td>3.741029</td><td>1.762018</td><td>2.228222</td><td>3</td><td>5</td><td>2</td><td> 4</td></tr>\n",
       "\t<tr><td>DE</td><td>1.373123</td><td>3.590251</td><td>1.121289</td><td>1.340551</td><td>4</td><td>6</td><td>8</td><td>15</td></tr>\n",
       "\t<tr><td>NV</td><td>1.239449</td><td>4.163806</td><td>1.695965</td><td>2.494497</td><td>5</td><td>4</td><td>3</td><td> 2</td></tr>\n",
       "\t<tr><td>BC</td><td>1.041945</td><td>4.288923</td><td>1.462897</td><td>1.277792</td><td>6</td><td>3</td><td>4</td><td>18</td></tr>\n",
       "</tbody>\n",
       "</table>\n"
      ],
      "text/latex": [
       "A tibble: 6 × 9\n",
       "\\begin{tabular}{lllllllll}\n",
       " birthStateProvince & target1 & target2 & target3 & target4 & target1\\_rank & target2\\_rank & target3\\_rank & target4\\_rank\\\\\n",
       " <chr> & <dbl> & <dbl> & <dbl> & <dbl> & <int> & <int> & <int> & <int>\\\\\n",
       "\\hline\n",
       "\t QC & 2.819892 & 7.889064 & 2.620009 & 5.135369 & 1 & 1 & 1 &  1\\\\\n",
       "\t WY & 1.869066 & 6.100271 & 1.439937 & 1.801384 & 2 & 2 & 6 &  8\\\\\n",
       "\t NM & 1.459821 & 3.741029 & 1.762018 & 2.228222 & 3 & 5 & 2 &  4\\\\\n",
       "\t DE & 1.373123 & 3.590251 & 1.121289 & 1.340551 & 4 & 6 & 8 & 15\\\\\n",
       "\t NV & 1.239449 & 4.163806 & 1.695965 & 2.494497 & 5 & 4 & 3 &  2\\\\\n",
       "\t BC & 1.041945 & 4.288923 & 1.462897 & 1.277792 & 6 & 3 & 4 & 18\\\\\n",
       "\\end{tabular}\n"
      ],
      "text/markdown": [
       "\n",
       "A tibble: 6 × 9\n",
       "\n",
       "| birthStateProvince &lt;chr&gt; | target1 &lt;dbl&gt; | target2 &lt;dbl&gt; | target3 &lt;dbl&gt; | target4 &lt;dbl&gt; | target1_rank &lt;int&gt; | target2_rank &lt;int&gt; | target3_rank &lt;int&gt; | target4_rank &lt;int&gt; |\n",
       "|---|---|---|---|---|---|---|---|---|\n",
       "| QC | 2.819892 | 7.889064 | 2.620009 | 5.135369 | 1 | 1 | 1 |  1 |\n",
       "| WY | 1.869066 | 6.100271 | 1.439937 | 1.801384 | 2 | 2 | 6 |  8 |\n",
       "| NM | 1.459821 | 3.741029 | 1.762018 | 2.228222 | 3 | 5 | 2 |  4 |\n",
       "| DE | 1.373123 | 3.590251 | 1.121289 | 1.340551 | 4 | 6 | 8 | 15 |\n",
       "| NV | 1.239449 | 4.163806 | 1.695965 | 2.494497 | 5 | 4 | 3 |  2 |\n",
       "| BC | 1.041945 | 4.288923 | 1.462897 | 1.277792 | 6 | 3 | 4 | 18 |\n",
       "\n"
      ],
      "text/plain": [
       "  birthStateProvince target1  target2  target3  target4  target1_rank\n",
       "1 QC                 2.819892 7.889064 2.620009 5.135369 1           \n",
       "2 WY                 1.869066 6.100271 1.439937 1.801384 2           \n",
       "3 NM                 1.459821 3.741029 1.762018 2.228222 3           \n",
       "4 DE                 1.373123 3.590251 1.121289 1.340551 4           \n",
       "5 NV                 1.239449 4.163806 1.695965 2.494497 5           \n",
       "6 BC                 1.041945 4.288923 1.462897 1.277792 6           \n",
       "  target2_rank target3_rank target4_rank\n",
       "1 1            1             1          \n",
       "2 2            6             8          \n",
       "3 5            2             4          \n",
       "4 6            8            15          \n",
       "5 4            3             2          \n",
       "6 3            4            18          "
      ]
     },
     "metadata": {},
     "output_type": "display_data"
    }
   ],
   "source": [
    "state_avg_target %>%\n",
    "mutate(across(starts_with('target'), ~dense_rank(desc(.x)),`.names` = '{col}_rank')) %>%\n",
    "arrange(target1_rank) %>%\n",
    "head"
   ]
  },
  {
   "cell_type": "markdown",
   "id": "efa3ad4b",
   "metadata": {},
   "source": [
    "#### Potential feature engineering:\n",
    "* Age\n",
    "* Birthday (1/0)\n",
    "* target encode position\n",
    "* target encode state"
   ]
  },
  {
   "cell_type": "markdown",
   "id": "279a4537",
   "metadata": {},
   "source": [
    "### seasons.csv"
   ]
  },
  {
   "cell_type": "code",
   "execution_count": 118,
   "id": "9a0ee2f7",
   "metadata": {},
   "outputs": [
    {
     "name": "stderr",
     "output_type": "stream",
     "text": [
      "\n",
      "\u001b[36m──\u001b[39m \u001b[1m\u001b[1mColumn specification\u001b[1m\u001b[22m \u001b[36m────────────────────────────────────────────────────────\u001b[39m\n",
      "cols(\n",
      "  seasonId = \u001b[32mcol_double()\u001b[39m,\n",
      "  seasonStartDate = \u001b[34mcol_date(format = \"\")\u001b[39m,\n",
      "  seasonEndDate = \u001b[34mcol_date(format = \"\")\u001b[39m,\n",
      "  preSeasonStartDate = \u001b[34mcol_date(format = \"\")\u001b[39m,\n",
      "  preSeasonEndDate = \u001b[34mcol_date(format = \"\")\u001b[39m,\n",
      "  regularSeasonStartDate = \u001b[34mcol_date(format = \"\")\u001b[39m,\n",
      "  regularSeasonEndDate = \u001b[34mcol_date(format = \"\")\u001b[39m,\n",
      "  lastDate1stHalf = \u001b[34mcol_date(format = \"\")\u001b[39m,\n",
      "  allStarDate = \u001b[34mcol_date(format = \"\")\u001b[39m,\n",
      "  firstDate2ndHalf = \u001b[34mcol_date(format = \"\")\u001b[39m,\n",
      "  postSeasonStartDate = \u001b[34mcol_date(format = \"\")\u001b[39m,\n",
      "  postSeasonEndDate = \u001b[34mcol_date(format = \"\")\u001b[39m\n",
      ")\n",
      "\n",
      "\n"
     ]
    }
   ],
   "source": [
    "seasons <- read_csv('raw_data/seasons.csv')"
   ]
  },
  {
   "cell_type": "code",
   "execution_count": 128,
   "id": "8da15bbd",
   "metadata": {},
   "outputs": [
    {
     "data": {
      "text/html": [
       "<table class=\"dataframe\">\n",
       "<caption>A spec_tbl_df: 5 × 12</caption>\n",
       "<thead>\n",
       "\t<tr><th scope=col>seasonId</th><th scope=col>seasonStartDate</th><th scope=col>seasonEndDate</th><th scope=col>preSeasonStartDate</th><th scope=col>preSeasonEndDate</th><th scope=col>regularSeasonStartDate</th><th scope=col>regularSeasonEndDate</th><th scope=col>lastDate1stHalf</th><th scope=col>allStarDate</th><th scope=col>firstDate2ndHalf</th><th scope=col>postSeasonStartDate</th><th scope=col>postSeasonEndDate</th></tr>\n",
       "\t<tr><th scope=col>&lt;dbl&gt;</th><th scope=col>&lt;date&gt;</th><th scope=col>&lt;date&gt;</th><th scope=col>&lt;date&gt;</th><th scope=col>&lt;date&gt;</th><th scope=col>&lt;date&gt;</th><th scope=col>&lt;date&gt;</th><th scope=col>&lt;date&gt;</th><th scope=col>&lt;date&gt;</th><th scope=col>&lt;date&gt;</th><th scope=col>&lt;date&gt;</th><th scope=col>&lt;date&gt;</th></tr>\n",
       "</thead>\n",
       "<tbody>\n",
       "\t<tr><td>2017</td><td>2017-04-02</td><td>2017-11-01</td><td>2017-02-22</td><td>2017-04-01</td><td>2017-04-02</td><td>2017-10-01</td><td>2017-07-09</td><td>2017-07-11</td><td>2017-07-14</td><td>2017-10-03</td><td>2017-11-01</td></tr>\n",
       "\t<tr><td>2018</td><td>2018-03-29</td><td>2018-10-28</td><td>2018-02-21</td><td>2018-03-27</td><td>2018-03-29</td><td>2018-10-01</td><td>2018-07-15</td><td>2018-07-17</td><td>2018-07-19</td><td>2018-10-02</td><td>2018-10-28</td></tr>\n",
       "\t<tr><td>2019</td><td>2019-03-20</td><td>2019-10-30</td><td>2019-02-21</td><td>2019-03-26</td><td>2019-03-20</td><td>2019-09-29</td><td>2019-07-07</td><td>2019-07-09</td><td>2019-07-11</td><td>2019-10-01</td><td>2019-10-30</td></tr>\n",
       "\t<tr><td>2020</td><td>2020-07-23</td><td>2020-10-28</td><td>2020-02-21</td><td>2020-07-22</td><td>2020-07-23</td><td>2020-09-27</td><td>2020-08-25</td><td>NA</td><td>2020-08-26</td><td>2020-09-29</td><td>2020-10-28</td></tr>\n",
       "\t<tr><td>2021</td><td>2021-02-28</td><td>2021-10-31</td><td>2021-02-28</td><td>2021-03-30</td><td>2021-04-01</td><td>2021-10-03</td><td>2021-07-11</td><td>2021-07-13</td><td>2021-07-15</td><td>2021-10-04</td><td>2021-10-31</td></tr>\n",
       "</tbody>\n",
       "</table>\n"
      ],
      "text/latex": [
       "A spec\\_tbl\\_df: 5 × 12\n",
       "\\begin{tabular}{llllllllllll}\n",
       " seasonId & seasonStartDate & seasonEndDate & preSeasonStartDate & preSeasonEndDate & regularSeasonStartDate & regularSeasonEndDate & lastDate1stHalf & allStarDate & firstDate2ndHalf & postSeasonStartDate & postSeasonEndDate\\\\\n",
       " <dbl> & <date> & <date> & <date> & <date> & <date> & <date> & <date> & <date> & <date> & <date> & <date>\\\\\n",
       "\\hline\n",
       "\t 2017 & 2017-04-02 & 2017-11-01 & 2017-02-22 & 2017-04-01 & 2017-04-02 & 2017-10-01 & 2017-07-09 & 2017-07-11 & 2017-07-14 & 2017-10-03 & 2017-11-01\\\\\n",
       "\t 2018 & 2018-03-29 & 2018-10-28 & 2018-02-21 & 2018-03-27 & 2018-03-29 & 2018-10-01 & 2018-07-15 & 2018-07-17 & 2018-07-19 & 2018-10-02 & 2018-10-28\\\\\n",
       "\t 2019 & 2019-03-20 & 2019-10-30 & 2019-02-21 & 2019-03-26 & 2019-03-20 & 2019-09-29 & 2019-07-07 & 2019-07-09 & 2019-07-11 & 2019-10-01 & 2019-10-30\\\\\n",
       "\t 2020 & 2020-07-23 & 2020-10-28 & 2020-02-21 & 2020-07-22 & 2020-07-23 & 2020-09-27 & 2020-08-25 & NA & 2020-08-26 & 2020-09-29 & 2020-10-28\\\\\n",
       "\t 2021 & 2021-02-28 & 2021-10-31 & 2021-02-28 & 2021-03-30 & 2021-04-01 & 2021-10-03 & 2021-07-11 & 2021-07-13 & 2021-07-15 & 2021-10-04 & 2021-10-31\\\\\n",
       "\\end{tabular}\n"
      ],
      "text/markdown": [
       "\n",
       "A spec_tbl_df: 5 × 12\n",
       "\n",
       "| seasonId &lt;dbl&gt; | seasonStartDate &lt;date&gt; | seasonEndDate &lt;date&gt; | preSeasonStartDate &lt;date&gt; | preSeasonEndDate &lt;date&gt; | regularSeasonStartDate &lt;date&gt; | regularSeasonEndDate &lt;date&gt; | lastDate1stHalf &lt;date&gt; | allStarDate &lt;date&gt; | firstDate2ndHalf &lt;date&gt; | postSeasonStartDate &lt;date&gt; | postSeasonEndDate &lt;date&gt; |\n",
       "|---|---|---|---|---|---|---|---|---|---|---|---|\n",
       "| 2017 | 2017-04-02 | 2017-11-01 | 2017-02-22 | 2017-04-01 | 2017-04-02 | 2017-10-01 | 2017-07-09 | 2017-07-11 | 2017-07-14 | 2017-10-03 | 2017-11-01 |\n",
       "| 2018 | 2018-03-29 | 2018-10-28 | 2018-02-21 | 2018-03-27 | 2018-03-29 | 2018-10-01 | 2018-07-15 | 2018-07-17 | 2018-07-19 | 2018-10-02 | 2018-10-28 |\n",
       "| 2019 | 2019-03-20 | 2019-10-30 | 2019-02-21 | 2019-03-26 | 2019-03-20 | 2019-09-29 | 2019-07-07 | 2019-07-09 | 2019-07-11 | 2019-10-01 | 2019-10-30 |\n",
       "| 2020 | 2020-07-23 | 2020-10-28 | 2020-02-21 | 2020-07-22 | 2020-07-23 | 2020-09-27 | 2020-08-25 | NA | 2020-08-26 | 2020-09-29 | 2020-10-28 |\n",
       "| 2021 | 2021-02-28 | 2021-10-31 | 2021-02-28 | 2021-03-30 | 2021-04-01 | 2021-10-03 | 2021-07-11 | 2021-07-13 | 2021-07-15 | 2021-10-04 | 2021-10-31 |\n",
       "\n"
      ],
      "text/plain": [
       "  seasonId seasonStartDate seasonEndDate preSeasonStartDate preSeasonEndDate\n",
       "1 2017     2017-04-02      2017-11-01    2017-02-22         2017-04-01      \n",
       "2 2018     2018-03-29      2018-10-28    2018-02-21         2018-03-27      \n",
       "3 2019     2019-03-20      2019-10-30    2019-02-21         2019-03-26      \n",
       "4 2020     2020-07-23      2020-10-28    2020-02-21         2020-07-22      \n",
       "5 2021     2021-02-28      2021-10-31    2021-02-28         2021-03-30      \n",
       "  regularSeasonStartDate regularSeasonEndDate lastDate1stHalf allStarDate\n",
       "1 2017-04-02             2017-10-01           2017-07-09      2017-07-11 \n",
       "2 2018-03-29             2018-10-01           2018-07-15      2018-07-17 \n",
       "3 2019-03-20             2019-09-29           2019-07-07      2019-07-09 \n",
       "4 2020-07-23             2020-09-27           2020-08-25      <NA>       \n",
       "5 2021-04-01             2021-10-03           2021-07-11      2021-07-13 \n",
       "  firstDate2ndHalf postSeasonStartDate postSeasonEndDate\n",
       "1 2017-07-14       2017-10-03          2017-11-01       \n",
       "2 2018-07-19       2018-10-02          2018-10-28       \n",
       "3 2019-07-11       2019-10-01          2019-10-30       \n",
       "4 2020-08-26       2020-09-29          2020-10-28       \n",
       "5 2021-07-15       2021-10-04          2021-10-31       "
      ]
     },
     "metadata": {},
     "output_type": "display_data"
    }
   ],
   "source": [
    "seasons"
   ]
  },
  {
   "cell_type": "markdown",
   "id": "48085533",
   "metadata": {},
   "source": [
    "### Teams.csv"
   ]
  },
  {
   "cell_type": "code",
   "execution_count": 123,
   "id": "b570980e",
   "metadata": {},
   "outputs": [
    {
     "name": "stderr",
     "output_type": "stream",
     "text": [
      "\n",
      "\u001b[36m──\u001b[39m \u001b[1m\u001b[1mColumn specification\u001b[1m\u001b[22m \u001b[36m────────────────────────────────────────────────────────\u001b[39m\n",
      "cols(\n",
      "  id = \u001b[32mcol_double()\u001b[39m,\n",
      "  name = \u001b[31mcol_character()\u001b[39m,\n",
      "  teamName = \u001b[31mcol_character()\u001b[39m,\n",
      "  teamCode = \u001b[31mcol_character()\u001b[39m,\n",
      "  shortName = \u001b[31mcol_character()\u001b[39m,\n",
      "  abbreviation = \u001b[31mcol_character()\u001b[39m,\n",
      "  locationName = \u001b[31mcol_character()\u001b[39m,\n",
      "  leagueId = \u001b[32mcol_double()\u001b[39m,\n",
      "  leagueName = \u001b[31mcol_character()\u001b[39m,\n",
      "  divisionId = \u001b[32mcol_double()\u001b[39m,\n",
      "  divisionName = \u001b[31mcol_character()\u001b[39m,\n",
      "  venueId = \u001b[32mcol_double()\u001b[39m,\n",
      "  venueName = \u001b[31mcol_character()\u001b[39m\n",
      ")\n",
      "\n",
      "\n"
     ]
    },
    {
     "data": {
      "text/html": [
       "<table class=\"dataframe\">\n",
       "<caption>A tibble: 6 × 13</caption>\n",
       "<thead>\n",
       "\t<tr><th scope=col>id</th><th scope=col>name</th><th scope=col>teamName</th><th scope=col>teamCode</th><th scope=col>shortName</th><th scope=col>abbreviation</th><th scope=col>locationName</th><th scope=col>leagueId</th><th scope=col>leagueName</th><th scope=col>divisionId</th><th scope=col>divisionName</th><th scope=col>venueId</th><th scope=col>venueName</th></tr>\n",
       "\t<tr><th scope=col>&lt;dbl&gt;</th><th scope=col>&lt;chr&gt;</th><th scope=col>&lt;chr&gt;</th><th scope=col>&lt;chr&gt;</th><th scope=col>&lt;chr&gt;</th><th scope=col>&lt;chr&gt;</th><th scope=col>&lt;chr&gt;</th><th scope=col>&lt;dbl&gt;</th><th scope=col>&lt;chr&gt;</th><th scope=col>&lt;dbl&gt;</th><th scope=col>&lt;chr&gt;</th><th scope=col>&lt;dbl&gt;</th><th scope=col>&lt;chr&gt;</th></tr>\n",
       "</thead>\n",
       "<tbody>\n",
       "\t<tr><td>108</td><td>Los Angeles Angels  </td><td>Angels </td><td>ana</td><td>LA Angels </td><td>LAA</td><td>Anaheim   </td><td>103</td><td>American League</td><td>200</td><td>American League West   </td><td>   1</td><td>Angel Stadium              </td></tr>\n",
       "\t<tr><td>109</td><td>Arizona Diamondbacks</td><td>D-backs</td><td>ari</td><td>Arizona   </td><td>ARI</td><td>Phoenix   </td><td>104</td><td>National League</td><td>203</td><td>National League West   </td><td>  15</td><td>Chase Field                </td></tr>\n",
       "\t<tr><td>110</td><td>Baltimore Orioles   </td><td>Orioles</td><td>bal</td><td>Baltimore </td><td>BAL</td><td>Baltimore </td><td>103</td><td>American League</td><td>201</td><td>American League East   </td><td>   2</td><td>Oriole Park at Camden Yards</td></tr>\n",
       "\t<tr><td>111</td><td>Boston Red Sox      </td><td>Red Sox</td><td>bos</td><td>Boston    </td><td>BOS</td><td>Boston    </td><td>103</td><td>American League</td><td>201</td><td>American League East   </td><td>   3</td><td>Fenway Park                </td></tr>\n",
       "\t<tr><td>112</td><td>Chicago Cubs        </td><td>Cubs   </td><td>chn</td><td>Chi Cubs  </td><td>CHC</td><td>Chicago   </td><td>104</td><td>National League</td><td>205</td><td>National League Central</td><td>  17</td><td>Wrigley Field              </td></tr>\n",
       "\t<tr><td>113</td><td>Cincinnati Reds     </td><td>Reds   </td><td>cin</td><td>Cincinnati</td><td>CIN</td><td>Cincinnati</td><td>104</td><td>National League</td><td>205</td><td>National League Central</td><td>2602</td><td>Great American Ball Park   </td></tr>\n",
       "</tbody>\n",
       "</table>\n"
      ],
      "text/latex": [
       "A tibble: 6 × 13\n",
       "\\begin{tabular}{lllllllllllll}\n",
       " id & name & teamName & teamCode & shortName & abbreviation & locationName & leagueId & leagueName & divisionId & divisionName & venueId & venueName\\\\\n",
       " <dbl> & <chr> & <chr> & <chr> & <chr> & <chr> & <chr> & <dbl> & <chr> & <dbl> & <chr> & <dbl> & <chr>\\\\\n",
       "\\hline\n",
       "\t 108 & Los Angeles Angels   & Angels  & ana & LA Angels  & LAA & Anaheim    & 103 & American League & 200 & American League West    &    1 & Angel Stadium              \\\\\n",
       "\t 109 & Arizona Diamondbacks & D-backs & ari & Arizona    & ARI & Phoenix    & 104 & National League & 203 & National League West    &   15 & Chase Field                \\\\\n",
       "\t 110 & Baltimore Orioles    & Orioles & bal & Baltimore  & BAL & Baltimore  & 103 & American League & 201 & American League East    &    2 & Oriole Park at Camden Yards\\\\\n",
       "\t 111 & Boston Red Sox       & Red Sox & bos & Boston     & BOS & Boston     & 103 & American League & 201 & American League East    &    3 & Fenway Park                \\\\\n",
       "\t 112 & Chicago Cubs         & Cubs    & chn & Chi Cubs   & CHC & Chicago    & 104 & National League & 205 & National League Central &   17 & Wrigley Field              \\\\\n",
       "\t 113 & Cincinnati Reds      & Reds    & cin & Cincinnati & CIN & Cincinnati & 104 & National League & 205 & National League Central & 2602 & Great American Ball Park   \\\\\n",
       "\\end{tabular}\n"
      ],
      "text/markdown": [
       "\n",
       "A tibble: 6 × 13\n",
       "\n",
       "| id &lt;dbl&gt; | name &lt;chr&gt; | teamName &lt;chr&gt; | teamCode &lt;chr&gt; | shortName &lt;chr&gt; | abbreviation &lt;chr&gt; | locationName &lt;chr&gt; | leagueId &lt;dbl&gt; | leagueName &lt;chr&gt; | divisionId &lt;dbl&gt; | divisionName &lt;chr&gt; | venueId &lt;dbl&gt; | venueName &lt;chr&gt; |\n",
       "|---|---|---|---|---|---|---|---|---|---|---|---|---|\n",
       "| 108 | Los Angeles Angels   | Angels  | ana | LA Angels  | LAA | Anaheim    | 103 | American League | 200 | American League West    |    1 | Angel Stadium               |\n",
       "| 109 | Arizona Diamondbacks | D-backs | ari | Arizona    | ARI | Phoenix    | 104 | National League | 203 | National League West    |   15 | Chase Field                 |\n",
       "| 110 | Baltimore Orioles    | Orioles | bal | Baltimore  | BAL | Baltimore  | 103 | American League | 201 | American League East    |    2 | Oriole Park at Camden Yards |\n",
       "| 111 | Boston Red Sox       | Red Sox | bos | Boston     | BOS | Boston     | 103 | American League | 201 | American League East    |    3 | Fenway Park                 |\n",
       "| 112 | Chicago Cubs         | Cubs    | chn | Chi Cubs   | CHC | Chicago    | 104 | National League | 205 | National League Central |   17 | Wrigley Field               |\n",
       "| 113 | Cincinnati Reds      | Reds    | cin | Cincinnati | CIN | Cincinnati | 104 | National League | 205 | National League Central | 2602 | Great American Ball Park    |\n",
       "\n"
      ],
      "text/plain": [
       "  id  name                 teamName teamCode shortName  abbreviation\n",
       "1 108 Los Angeles Angels   Angels   ana      LA Angels  LAA         \n",
       "2 109 Arizona Diamondbacks D-backs  ari      Arizona    ARI         \n",
       "3 110 Baltimore Orioles    Orioles  bal      Baltimore  BAL         \n",
       "4 111 Boston Red Sox       Red Sox  bos      Boston     BOS         \n",
       "5 112 Chicago Cubs         Cubs     chn      Chi Cubs   CHC         \n",
       "6 113 Cincinnati Reds      Reds     cin      Cincinnati CIN         \n",
       "  locationName leagueId leagueName      divisionId divisionName           \n",
       "1 Anaheim      103      American League 200        American League West   \n",
       "2 Phoenix      104      National League 203        National League West   \n",
       "3 Baltimore    103      American League 201        American League East   \n",
       "4 Boston       103      American League 201        American League East   \n",
       "5 Chicago      104      National League 205        National League Central\n",
       "6 Cincinnati   104      National League 205        National League Central\n",
       "  venueId venueName                  \n",
       "1    1    Angel Stadium              \n",
       "2   15    Chase Field                \n",
       "3    2    Oriole Park at Camden Yards\n",
       "4    3    Fenway Park                \n",
       "5   17    Wrigley Field              \n",
       "6 2602    Great American Ball Park   "
      ]
     },
     "metadata": {},
     "output_type": "display_data"
    }
   ],
   "source": [
    "teams <- read_csv('raw_data/teams.csv')\n",
    "head(teams)"
   ]
  },
  {
   "cell_type": "code",
   "execution_count": 126,
   "id": "d161dce6",
   "metadata": {},
   "outputs": [
    {
     "data": {
      "text/html": [
       "<table class=\"dataframe\">\n",
       "<caption>A spec_tbl_df: 6 × 3</caption>\n",
       "<thead>\n",
       "\t<tr><th scope=col>leagueName</th><th scope=col>divisionName</th><th scope=col>n</th></tr>\n",
       "\t<tr><th scope=col>&lt;chr&gt;</th><th scope=col>&lt;chr&gt;</th><th scope=col>&lt;int&gt;</th></tr>\n",
       "</thead>\n",
       "<tbody>\n",
       "\t<tr><td>American League</td><td>American League Central</td><td>5</td></tr>\n",
       "\t<tr><td>American League</td><td>American League East   </td><td>5</td></tr>\n",
       "\t<tr><td>American League</td><td>American League West   </td><td>5</td></tr>\n",
       "\t<tr><td>National League</td><td>National League Central</td><td>5</td></tr>\n",
       "\t<tr><td>National League</td><td>National League East   </td><td>5</td></tr>\n",
       "\t<tr><td>National League</td><td>National League West   </td><td>5</td></tr>\n",
       "</tbody>\n",
       "</table>\n"
      ],
      "text/latex": [
       "A spec\\_tbl\\_df: 6 × 3\n",
       "\\begin{tabular}{lll}\n",
       " leagueName & divisionName & n\\\\\n",
       " <chr> & <chr> & <int>\\\\\n",
       "\\hline\n",
       "\t American League & American League Central & 5\\\\\n",
       "\t American League & American League East    & 5\\\\\n",
       "\t American League & American League West    & 5\\\\\n",
       "\t National League & National League Central & 5\\\\\n",
       "\t National League & National League East    & 5\\\\\n",
       "\t National League & National League West    & 5\\\\\n",
       "\\end{tabular}\n"
      ],
      "text/markdown": [
       "\n",
       "A spec_tbl_df: 6 × 3\n",
       "\n",
       "| leagueName &lt;chr&gt; | divisionName &lt;chr&gt; | n &lt;int&gt; |\n",
       "|---|---|---|\n",
       "| American League | American League Central | 5 |\n",
       "| American League | American League East    | 5 |\n",
       "| American League | American League West    | 5 |\n",
       "| National League | National League Central | 5 |\n",
       "| National League | National League East    | 5 |\n",
       "| National League | National League West    | 5 |\n",
       "\n"
      ],
      "text/plain": [
       "  leagueName      divisionName            n\n",
       "1 American League American League Central 5\n",
       "2 American League American League East    5\n",
       "3 American League American League West    5\n",
       "4 National League National League Central 5\n",
       "5 National League National League East    5\n",
       "6 National League National League West    5"
      ]
     },
     "metadata": {},
     "output_type": "display_data"
    }
   ],
   "source": [
    "count(teams, leagueName, divisionName)"
   ]
  },
  {
   "cell_type": "markdown",
   "id": "667734fe",
   "metadata": {},
   "source": [
    "### train_events.feather"
   ]
  },
  {
   "cell_type": "code",
   "execution_count": 129,
   "id": "a69d69a0",
   "metadata": {},
   "outputs": [],
   "source": [
    "train_events <- feather::read_feather('raw_data/train_events.feather')"
   ]
  },
  {
   "cell_type": "code",
   "execution_count": 131,
   "id": "99747a06",
   "metadata": {},
   "outputs": [
    {
     "data": {
      "text/html": [
       "<style>\n",
       ".list-inline {list-style: none; margin:0; padding: 0}\n",
       ".list-inline>li {display: inline-block}\n",
       ".list-inline>li:not(:last-child)::after {content: \"\\00b7\"; padding: 0 .5ex}\n",
       "</style>\n",
       "<ol class=list-inline><li>2017654</li><li>72</li></ol>\n"
      ],
      "text/latex": [
       "\\begin{enumerate*}\n",
       "\\item 2017654\n",
       "\\item 72\n",
       "\\end{enumerate*}\n"
      ],
      "text/markdown": [
       "1. 2017654\n",
       "2. 72\n",
       "\n",
       "\n"
      ],
      "text/plain": [
       "[1] 2017654      72"
      ]
     },
     "metadata": {},
     "output_type": "display_data"
    }
   ],
   "source": [
    "dim(train_events)"
   ]
  },
  {
   "cell_type": "code",
   "execution_count": 133,
   "id": "4da53d01",
   "metadata": {},
   "outputs": [
    {
     "name": "stdout",
     "output_type": "stream",
     "text": [
      "Rows: 2,017,654\n",
      "Columns: 72\n",
      "$ gamePk        \u001b[3m\u001b[90m<int>\u001b[39m\u001b[23m 529409, 529416, 529416, 529411, 529406, 529411, 529418, …\n",
      "$ gameDate      \u001b[3m\u001b[90m<chr>\u001b[39m\u001b[23m \"2018-03-29\", \"2018-03-29\", \"2018-03-29\", \"2018-03-29\", …\n",
      "$ gameTimeUTC   \u001b[3m\u001b[90m<chr>\u001b[39m\u001b[23m \"2018-03-30T02:10:00Z\", \"2018-03-29T20:10:00Z\", \"2018-03…\n",
      "$ season        \u001b[3m\u001b[90m<int>\u001b[39m\u001b[23m 2018, 2018, 2018, 2018, 2018, 2018, 2018, 2018, 2018, 20…\n",
      "$ gameType      \u001b[3m\u001b[90m<chr>\u001b[39m\u001b[23m \"R\", \"R\", \"R\", \"R\", \"R\", \"R\", \"R\", \"R\", \"R\", \"R\", \"R\", \"…\n",
      "$ playId        \u001b[3m\u001b[90m<chr>\u001b[39m\u001b[23m NA, NA, NA, NA, NA, NA, NA, NA, NA, NA, NA, NA, NA, NA, …\n",
      "$ eventId       \u001b[3m\u001b[90m<int>\u001b[39m\u001b[23m 5, 0, 4, 4, 5, 1, 6, 6, 3, 1, 3, 4, 3, 3, 6, 1, 5, 2, 2,…\n",
      "$ inning        \u001b[3m\u001b[90m<int>\u001b[39m\u001b[23m 9, 3, 9, 3, 8, 9, 6, 8, 11, 1, 7, 7, 9, 8, 9, 8, 5, 9, 2…\n",
      "$ halfInning    \u001b[3m\u001b[90m<chr>\u001b[39m\u001b[23m \"top\", \"bottom\", \"top\", \"bottom\", \"top\", \"bottom\", \"bott…\n",
      "$ homeScore     \u001b[3m\u001b[90m<int>\u001b[39m\u001b[23m 2, 0, 5, 0, 0, 0, 0, 8, 2, 0, 0, 6, 5, 8, 5, 3, 4, 2, 0,…\n",
      "$ awayScore     \u001b[3m\u001b[90m<int>\u001b[39m\u001b[23m 1, 1, 5, 2, 4, 4, 1, 4, 2, 0, 0, 2, 14, 4, 14, 5, 6, 0, …\n",
      "$ menOnBase     \u001b[3m\u001b[90m<chr>\u001b[39m\u001b[23m NA, NA, NA, NA, NA, NA, NA, NA, NA, NA, NA, NA, NA, NA, …\n",
      "$ atBatIndex    \u001b[3m\u001b[90m<int>\u001b[39m\u001b[23m 61, 18, 72, 23, 54, 69, 49, 71, 80, 2, 49, 59, 84, 71, 8…\n",
      "$ atBatDesc     \u001b[3m\u001b[90m<chr>\u001b[39m\u001b[23m \"Lonnie Chisenhall hit by pitch.\", \"Ryan Flaherty single…\n",
      "$ atBatEvent    \u001b[3m\u001b[90m<chr>\u001b[39m\u001b[23m \"Hit By Pitch\", \"Single\", \"Strikeout\", \"Strikeout\", \"Wal…\n",
      "$ hasOut        \u001b[3m\u001b[90m<int>\u001b[39m\u001b[23m 0, 0, 1, 1, 1, 0, 1, 0, 1, 1, 1, 0, 1, 0, 1, 0, 1, 0, 1,…\n",
      "$ pitcherTeamId \u001b[3m\u001b[90m<int>\u001b[39m\u001b[23m 136, 143, 144, 117, 139, 117, 137, 138, 110, 144, 142, 1…\n",
      "$ isPitcherHome \u001b[3m\u001b[90m<int>\u001b[39m\u001b[23m 1, 0, 1, 0, 1, 0, 0, 0, 1, 1, 0, 1, 0, 0, 0, 0, 1, 1, 0,…\n",
      "$ pitcherTeam   \u001b[3m\u001b[90m<chr>\u001b[39m\u001b[23m \"Seattle Mariners\", \"Philadelphia Phillies\", \"Atlanta Br…\n",
      "$ hitterTeamId  \u001b[3m\u001b[90m<int>\u001b[39m\u001b[23m 114, 144, 143, 140, 111, 140, 119, 121, 142, 143, 110, 1…\n",
      "$ hitterTeam    \u001b[3m\u001b[90m<chr>\u001b[39m\u001b[23m \"Cleveland Indians\", \"Atlanta Braves\", \"Philadelphia Phi…\n",
      "$ pitcherId     \u001b[3m\u001b[90m<int>\u001b[39m\u001b[23m 621242, 605400, 527055, 434378, 643493, 571704, 592612, …\n",
      "$ pitcherName   \u001b[3m\u001b[90m<chr>\u001b[39m\u001b[23m \"Edwin Diaz\", \"Aaron Nola\", \"Arodys Vizcaino\", \"Justin V…\n",
      "$ isStarter     \u001b[3m\u001b[90m<int>\u001b[39m\u001b[23m 0, 1, 0, 1, 0, 0, 0, 0, 0, 1, 0, 0, 0, 0, 0, 0, 0, 0, 1,…\n",
      "$ pitcherHand   \u001b[3m\u001b[90m<chr>\u001b[39m\u001b[23m \"R\", \"R\", \"R\", \"R\", \"R\", \"R\", \"L\", \"R\", \"L\", \"R\", \"L\", \"…\n",
      "$ hitterId      \u001b[3m\u001b[90m<int>\u001b[39m\u001b[23m 502082, 475247, 467793, 592261, 434670, 425783, 641355, …\n",
      "$ hitterName    \u001b[3m\u001b[90m<chr>\u001b[39m\u001b[23m \"Lonnie Chisenhall\", \"Ryan Flaherty\", \"Carlos Santana\", …\n",
      "$ batSide       \u001b[3m\u001b[90m<chr>\u001b[39m\u001b[23m \"L\", \"L\", \"L\", \"R\", \"R\", \"L\", \"L\", \"L\", \"R\", \"L\", \"R\", \"…\n",
      "$ pitchNumber   \u001b[3m\u001b[90m<int>\u001b[39m\u001b[23m 1, 1, 5, 3, 5, 2, 6, 6, 3, 2, 4, 3, 4, 4, 6, 2, 6, 3, 3,…\n",
      "$ balls         \u001b[3m\u001b[90m<int>\u001b[39m\u001b[23m 0, 0, 3, 1, 2, 1, 2, 3, 1, 1, 1, 1, 2, 1, 3, 0, 3, 2, 1,…\n",
      "$ strikes       \u001b[3m\u001b[90m<int>\u001b[39m\u001b[23m 0, 0, 1, 1, 2, 0, 2, 2, 1, 0, 2, 1, 1, 2, 2, 1, 2, 0, 1,…\n",
      "$ isGB          \u001b[3m\u001b[90m<int>\u001b[39m\u001b[23m NA, NA, NA, NA, NA, NA, NA, NA, NA, NA, NA, NA, NA, NA, …\n",
      "$ isLD          \u001b[3m\u001b[90m<int>\u001b[39m\u001b[23m NA, NA, NA, NA, NA, NA, NA, NA, NA, NA, NA, NA, NA, NA, …\n",
      "$ isFB          \u001b[3m\u001b[90m<int>\u001b[39m\u001b[23m NA, NA, NA, NA, NA, NA, NA, NA, NA, NA, NA, NA, NA, NA, …\n",
      "$ isPU          \u001b[3m\u001b[90m<int>\u001b[39m\u001b[23m NA, NA, NA, NA, NA, NA, NA, NA, NA, NA, NA, NA, NA, NA, …\n",
      "$ launchSpeed   \u001b[3m\u001b[90m<dbl>\u001b[39m\u001b[23m NA, NA, NA, NA, NA, NA, NA, NA, NA, NA, NA, NA, NA, NA, …\n",
      "$ launchAngle   \u001b[3m\u001b[90m<dbl>\u001b[39m\u001b[23m NA, NA, NA, NA, NA, NA, NA, NA, NA, NA, NA, NA, NA, NA, …\n",
      "$ totalDistance \u001b[3m\u001b[90m<dbl>\u001b[39m\u001b[23m NA, NA, NA, NA, NA, NA, NA, NA, NA, NA, NA, NA, NA, NA, …\n",
      "$ event         \u001b[3m\u001b[90m<chr>\u001b[39m\u001b[23m \"Balk\", \"Injury\", \"Ejection\", \"Pickoff 1B\", \"Runner Out\"…\n",
      "$ description   \u001b[3m\u001b[90m<chr>\u001b[39m\u001b[23m \"With Lonnie Chisenhall batting, Rajai Davis advances to…\n",
      "$ rbi           \u001b[3m\u001b[90m<int>\u001b[39m\u001b[23m NA, NA, NA, NA, NA, NA, NA, NA, NA, NA, NA, NA, NA, NA, …\n",
      "$ pitchType     \u001b[3m\u001b[90m<chr>\u001b[39m\u001b[23m NA, NA, NA, NA, NA, NA, NA, NA, NA, NA, NA, NA, NA, NA, …\n",
      "$ call          \u001b[3m\u001b[90m<chr>\u001b[39m\u001b[23m NA, NA, NA, NA, NA, NA, NA, NA, NA, NA, NA, NA, NA, NA, …\n",
      "$ outs          \u001b[3m\u001b[90m<int>\u001b[39m\u001b[23m 1, 0, 2, 2, 2, 2, 2, 1, 1, 1, 0, 1, 0, 1, 0, 1, 1, 1, 2,…\n",
      "$ inPlay        \u001b[3m\u001b[90m<int>\u001b[39m\u001b[23m NA, NA, NA, NA, NA, NA, NA, NA, NA, NA, NA, NA, NA, NA, …\n",
      "$ isPaOver      \u001b[3m\u001b[90m<int>\u001b[39m\u001b[23m NA, NA, NA, NA, NA, NA, NA, NA, NA, NA, NA, NA, NA, NA, …\n",
      "$ startSpeed    \u001b[3m\u001b[90m<dbl>\u001b[39m\u001b[23m NA, NA, NA, NA, NA, NA, NA, NA, NA, NA, NA, NA, NA, NA, …\n",
      "$ endSpeed      \u001b[3m\u001b[90m<dbl>\u001b[39m\u001b[23m NA, NA, NA, NA, NA, NA, NA, NA, NA, NA, NA, NA, NA, NA, …\n",
      "$ nastyFactor   \u001b[3m\u001b[90m<dbl>\u001b[39m\u001b[23m NA, NA, NA, NA, NA, NA, NA, NA, NA, NA, NA, NA, NA, NA, …\n",
      "$ breakAngle    \u001b[3m\u001b[90m<dbl>\u001b[39m\u001b[23m NA, NA, NA, NA, NA, NA, NA, NA, NA, NA, NA, NA, NA, NA, …\n",
      "$ breakLength   \u001b[3m\u001b[90m<dbl>\u001b[39m\u001b[23m NA, NA, NA, NA, NA, NA, NA, NA, NA, NA, NA, NA, NA, NA, …\n",
      "$ breakY        \u001b[3m\u001b[90m<dbl>\u001b[39m\u001b[23m NA, NA, NA, NA, NA, NA, NA, NA, NA, NA, NA, NA, NA, NA, …\n",
      "$ spinRate      \u001b[3m\u001b[90m<int>\u001b[39m\u001b[23m NA, NA, NA, NA, NA, NA, NA, NA, NA, NA, NA, NA, NA, NA, …\n",
      "$ spinDirection \u001b[3m\u001b[90m<int>\u001b[39m\u001b[23m NA, NA, NA, NA, NA, NA, NA, NA, NA, NA, NA, NA, NA, NA, …\n",
      "$ pX            \u001b[3m\u001b[90m<dbl>\u001b[39m\u001b[23m NA, NA, NA, NA, NA, NA, NA, NA, NA, NA, NA, NA, NA, NA, …\n",
      "$ pZ            \u001b[3m\u001b[90m<dbl>\u001b[39m\u001b[23m NA, NA, NA, NA, NA, NA, NA, NA, NA, NA, NA, NA, NA, NA, …\n",
      "$ aX            \u001b[3m\u001b[90m<dbl>\u001b[39m\u001b[23m NA, NA, NA, NA, NA, NA, NA, NA, NA, NA, NA, NA, NA, NA, …\n",
      "$ aY            \u001b[3m\u001b[90m<dbl>\u001b[39m\u001b[23m NA, NA, NA, NA, NA, NA, NA, NA, NA, NA, NA, NA, NA, NA, …\n",
      "$ aZ            \u001b[3m\u001b[90m<dbl>\u001b[39m\u001b[23m NA, NA, NA, NA, NA, NA, NA, NA, NA, NA, NA, NA, NA, NA, …\n",
      "$ pfxX          \u001b[3m\u001b[90m<dbl>\u001b[39m\u001b[23m NA, NA, NA, NA, NA, NA, NA, NA, NA, NA, NA, NA, NA, NA, …\n",
      "$ pfxZ          \u001b[3m\u001b[90m<dbl>\u001b[39m\u001b[23m NA, NA, NA, NA, NA, NA, NA, NA, NA, NA, NA, NA, NA, NA, …\n",
      "$ vX0           \u001b[3m\u001b[90m<dbl>\u001b[39m\u001b[23m NA, NA, NA, NA, NA, NA, NA, NA, NA, NA, NA, NA, NA, NA, …\n",
      "$ vY0           \u001b[3m\u001b[90m<dbl>\u001b[39m\u001b[23m NA, NA, NA, NA, NA, NA, NA, NA, NA, NA, NA, NA, NA, NA, …\n",
      "$ vZ0           \u001b[3m\u001b[90m<dbl>\u001b[39m\u001b[23m NA, NA, NA, NA, NA, NA, NA, NA, NA, NA, NA, NA, NA, NA, …\n",
      "$ x             \u001b[3m\u001b[90m<dbl>\u001b[39m\u001b[23m NA, NA, NA, NA, NA, NA, NA, NA, NA, NA, NA, NA, NA, NA, …\n",
      "$ y             \u001b[3m\u001b[90m<dbl>\u001b[39m\u001b[23m NA, NA, NA, NA, NA, NA, NA, NA, NA, NA, NA, NA, NA, NA, …\n",
      "$ x0            \u001b[3m\u001b[90m<dbl>\u001b[39m\u001b[23m NA, NA, NA, NA, NA, NA, NA, NA, NA, NA, NA, NA, NA, NA, …\n",
      "$ y0            \u001b[3m\u001b[90m<dbl>\u001b[39m\u001b[23m NA, NA, NA, NA, NA, NA, NA, NA, NA, NA, NA, NA, NA, NA, …\n",
      "$ z0            \u001b[3m\u001b[90m<dbl>\u001b[39m\u001b[23m NA, NA, NA, NA, NA, NA, NA, NA, NA, NA, NA, NA, NA, NA, …\n",
      "$ type          \u001b[3m\u001b[90m<chr>\u001b[39m\u001b[23m \"action\", \"action\", \"action\", \"action\", \"action\", \"actio…\n",
      "$ zone          \u001b[3m\u001b[90m<int>\u001b[39m\u001b[23m NA, NA, NA, NA, NA, NA, NA, NA, NA, NA, NA, NA, NA, NA, …\n",
      "$ main_date     \u001b[3m\u001b[90m<date>\u001b[39m\u001b[23m 2018-03-22, 2018-03-22, 2018-03-22, 2018-03-22, 2018-03…\n"
     ]
    }
   ],
   "source": [
    "glimpse(train_events)"
   ]
  },
  {
   "cell_type": "markdown",
   "id": "1fc91ae9",
   "metadata": {},
   "source": [
    "Types of events (64) captured:\n"
   ]
  },
  {
   "cell_type": "code",
   "execution_count": 137,
   "id": "f990753e",
   "metadata": {},
   "outputs": [
    {
     "data": {
      "text/html": [
       "<table class=\"dataframe\">\n",
       "<caption>A tibble: 20 × 2</caption>\n",
       "<thead>\n",
       "\t<tr><th scope=col>event</th><th scope=col>n</th></tr>\n",
       "\t<tr><th scope=col>&lt;chr&gt;</th><th scope=col>&lt;int&gt;</th></tr>\n",
       "</thead>\n",
       "<tbody>\n",
       "\t<tr><td>NA                    </td><td>1396121</td></tr>\n",
       "\t<tr><td>Strikeout             </td><td> 108439</td></tr>\n",
       "\t<tr><td>Groundout             </td><td>  82192</td></tr>\n",
       "\t<tr><td>Single                </td><td>  66266</td></tr>\n",
       "\t<tr><td>Game Advisory         </td><td>  52914</td></tr>\n",
       "\t<tr><td>Flyout                </td><td>  51668</td></tr>\n",
       "\t<tr><td>Pitching Substitution </td><td>  42653</td></tr>\n",
       "\t<tr><td>Walk                  </td><td>  39017</td></tr>\n",
       "\t<tr><td>Lineout               </td><td>  28662</td></tr>\n",
       "\t<tr><td>Pop Out               </td><td>  22440</td></tr>\n",
       "\t<tr><td>Double                </td><td>  21005</td></tr>\n",
       "\t<tr><td>Home Run              </td><td>  15858</td></tr>\n",
       "\t<tr><td>Offensive Substitution</td><td>  15789</td></tr>\n",
       "\t<tr><td>Defensive Switch      </td><td>  11262</td></tr>\n",
       "\t<tr><td>Forceout              </td><td>   9217</td></tr>\n",
       "\t<tr><td>Grounded Into DP      </td><td>   8788</td></tr>\n",
       "\t<tr><td>Defensive Sub         </td><td>   6822</td></tr>\n",
       "\t<tr><td>Hit By Pitch          </td><td>   5190</td></tr>\n",
       "\t<tr><td>Stolen Base 2B        </td><td>   4584</td></tr>\n",
       "\t<tr><td>Wild Pitch            </td><td>   4311</td></tr>\n",
       "</tbody>\n",
       "</table>\n"
      ],
      "text/latex": [
       "A tibble: 20 × 2\n",
       "\\begin{tabular}{ll}\n",
       " event & n\\\\\n",
       " <chr> & <int>\\\\\n",
       "\\hline\n",
       "\t NA                     & 1396121\\\\\n",
       "\t Strikeout              &  108439\\\\\n",
       "\t Groundout              &   82192\\\\\n",
       "\t Single                 &   66266\\\\\n",
       "\t Game Advisory          &   52914\\\\\n",
       "\t Flyout                 &   51668\\\\\n",
       "\t Pitching Substitution  &   42653\\\\\n",
       "\t Walk                   &   39017\\\\\n",
       "\t Lineout                &   28662\\\\\n",
       "\t Pop Out                &   22440\\\\\n",
       "\t Double                 &   21005\\\\\n",
       "\t Home Run               &   15858\\\\\n",
       "\t Offensive Substitution &   15789\\\\\n",
       "\t Defensive Switch       &   11262\\\\\n",
       "\t Forceout               &    9217\\\\\n",
       "\t Grounded Into DP       &    8788\\\\\n",
       "\t Defensive Sub          &    6822\\\\\n",
       "\t Hit By Pitch           &    5190\\\\\n",
       "\t Stolen Base 2B         &    4584\\\\\n",
       "\t Wild Pitch             &    4311\\\\\n",
       "\\end{tabular}\n"
      ],
      "text/markdown": [
       "\n",
       "A tibble: 20 × 2\n",
       "\n",
       "| event &lt;chr&gt; | n &lt;int&gt; |\n",
       "|---|---|\n",
       "| NA                     | 1396121 |\n",
       "| Strikeout              |  108439 |\n",
       "| Groundout              |   82192 |\n",
       "| Single                 |   66266 |\n",
       "| Game Advisory          |   52914 |\n",
       "| Flyout                 |   51668 |\n",
       "| Pitching Substitution  |   42653 |\n",
       "| Walk                   |   39017 |\n",
       "| Lineout                |   28662 |\n",
       "| Pop Out                |   22440 |\n",
       "| Double                 |   21005 |\n",
       "| Home Run               |   15858 |\n",
       "| Offensive Substitution |   15789 |\n",
       "| Defensive Switch       |   11262 |\n",
       "| Forceout               |    9217 |\n",
       "| Grounded Into DP       |    8788 |\n",
       "| Defensive Sub          |    6822 |\n",
       "| Hit By Pitch           |    5190 |\n",
       "| Stolen Base 2B         |    4584 |\n",
       "| Wild Pitch             |    4311 |\n",
       "\n"
      ],
      "text/plain": [
       "   event                  n      \n",
       "1  NA                     1396121\n",
       "2  Strikeout               108439\n",
       "3  Groundout                82192\n",
       "4  Single                   66266\n",
       "5  Game Advisory            52914\n",
       "6  Flyout                   51668\n",
       "7  Pitching Substitution    42653\n",
       "8  Walk                     39017\n",
       "9  Lineout                  28662\n",
       "10 Pop Out                  22440\n",
       "11 Double                   21005\n",
       "12 Home Run                 15858\n",
       "13 Offensive Substitution   15789\n",
       "14 Defensive Switch         11262\n",
       "15 Forceout                  9217\n",
       "16 Grounded Into DP          8788\n",
       "17 Defensive Sub             6822\n",
       "18 Hit By Pitch              5190\n",
       "19 Stolen Base 2B            4584\n",
       "20 Wild Pitch                4311"
      ]
     },
     "metadata": {},
     "output_type": "display_data"
    }
   ],
   "source": [
    "train_events %>%\n",
    "count(event) %>%\n",
    "arrange(desc(n)) %>%\n",
    "head(20)"
   ]
  },
  {
   "cell_type": "markdown",
   "id": "786bdae3",
   "metadata": {},
   "source": [
    "each event contains a description - could use some sort of word2vec encoding to get meaning out"
   ]
  },
  {
   "cell_type": "code",
   "execution_count": 138,
   "id": "554378cc",
   "metadata": {},
   "outputs": [
    {
     "data": {
      "text/html": [
       "<style>\n",
       ".list-inline {list-style: none; margin:0; padding: 0}\n",
       ".list-inline>li {display: inline-block}\n",
       ".list-inline>li:not(:last-child)::after {content: \"\\00b7\"; padding: 0 .5ex}\n",
       "</style>\n",
       "<ol class=list-inline><li>'With Lonnie Chisenhall batting, Rajai Davis advances to 2nd on a balk.'</li><li>'Atlanta Braves catcher Tyler Flowers left the game due to an injured side.'</li><li>'Atlanta Braves Manager Brian Snitker ejected by 3B umpire Jordan Baker.'</li><li>'With Delino DeShields batting, Justin Verlander picks off Rougned Odor at 1st on throw to Marwin Gonzalez.'</li><li><span style=white-space:pre-wrap>'Mookie Betts out at 1st, catcher Wilson Ramos to first baseman C.  J.   Cron.'</span></li></ol>\n"
      ],
      "text/latex": [
       "\\begin{enumerate*}\n",
       "\\item 'With Lonnie Chisenhall batting, Rajai Davis advances to 2nd on a balk.'\n",
       "\\item 'Atlanta Braves catcher Tyler Flowers left the game due to an injured side.'\n",
       "\\item 'Atlanta Braves Manager Brian Snitker ejected by 3B umpire Jordan Baker.'\n",
       "\\item 'With Delino DeShields batting, Justin Verlander picks off Rougned Odor at 1st on throw to Marwin Gonzalez.'\n",
       "\\item 'Mookie Betts out at 1st, catcher Wilson Ramos to first baseman C.  J.   Cron.'\n",
       "\\end{enumerate*}\n"
      ],
      "text/markdown": [
       "1. 'With Lonnie Chisenhall batting, Rajai Davis advances to 2nd on a balk.'\n",
       "2. 'Atlanta Braves catcher Tyler Flowers left the game due to an injured side.'\n",
       "3. 'Atlanta Braves Manager Brian Snitker ejected by 3B umpire Jordan Baker.'\n",
       "4. 'With Delino DeShields batting, Justin Verlander picks off Rougned Odor at 1st on throw to Marwin Gonzalez.'\n",
       "5. <span style=white-space:pre-wrap>'Mookie Betts out at 1st, catcher Wilson Ramos to first baseman C.  J.   Cron.'</span>\n",
       "\n",
       "\n"
      ],
      "text/plain": [
       "[1] \"With Lonnie Chisenhall batting, Rajai Davis advances to 2nd on a balk.\"                                    \n",
       "[2] \"Atlanta Braves catcher Tyler Flowers left the game due to an injured side.\"                                \n",
       "[3] \"Atlanta Braves Manager Brian Snitker ejected by 3B umpire Jordan Baker.\"                                   \n",
       "[4] \"With Delino DeShields batting, Justin Verlander picks off Rougned Odor at 1st on throw to Marwin Gonzalez.\"\n",
       "[5] \"Mookie Betts out at 1st, catcher Wilson Ramos to first baseman C.  J.   Cron.\"                             "
      ]
     },
     "metadata": {},
     "output_type": "display_data"
    }
   ],
   "source": [
    "train_events$description[1:5]"
   ]
  },
  {
   "cell_type": "markdown",
   "id": "0071ce05",
   "metadata": {},
   "source": [
    "Top events by target (for pitcher):"
   ]
  },
  {
   "cell_type": "code",
   "execution_count": 187,
   "id": "cd0467c2",
   "metadata": {},
   "outputs": [],
   "source": [
    "events_target <- train_events %>%\n",
    "head(100000) %>%\n",
    "left_join(target, by = c('main_date'='main_date', 'pitcherId'='playerId'))"
   ]
  },
  {
   "cell_type": "code",
   "execution_count": 191,
   "id": "0af064e8",
   "metadata": {},
   "outputs": [
    {
     "data": {
      "text/html": [
       "<table class=\"dataframe\">\n",
       "<caption>A tibble: 10 × 5</caption>\n",
       "<thead>\n",
       "\t<tr><th scope=col>event</th><th scope=col>target1</th><th scope=col>target2</th><th scope=col>target3</th><th scope=col>target4</th></tr>\n",
       "\t<tr><th scope=col>&lt;chr&gt;</th><th scope=col>&lt;dbl&gt;</th><th scope=col>&lt;dbl&gt;</th><th scope=col>&lt;dbl&gt;</th><th scope=col>&lt;dbl&gt;</th></tr>\n",
       "</thead>\n",
       "<tbody>\n",
       "\t<tr><td>Triple Play         </td><td>2.990520</td><td>8.853665</td><td>6.350272</td><td>1.826451</td></tr>\n",
       "\t<tr><td>Bunt Lineout        </td><td>1.722194</td><td>6.852556</td><td>3.592346</td><td>1.205270</td></tr>\n",
       "\t<tr><td>Stolen Base Home    </td><td>1.471216</td><td>9.590855</td><td>4.288144</td><td>4.246929</td></tr>\n",
       "\t<tr><td>Batter Interference </td><td>1.387968</td><td>8.393238</td><td>3.114422</td><td>4.718742</td></tr>\n",
       "\t<tr><td>Bunt Pop Out        </td><td>1.356937</td><td>7.224076</td><td>1.203311</td><td>2.110315</td></tr>\n",
       "\t<tr><td>Caught Stealing 3B  </td><td>1.321676</td><td>7.397475</td><td>1.259830</td><td>1.505327</td></tr>\n",
       "\t<tr><td>Pickoff Error 1B    </td><td>1.158135</td><td>7.751862</td><td>2.292012</td><td>2.239782</td></tr>\n",
       "\t<tr><td>Bunt Groundout      </td><td>1.130272</td><td>6.004764</td><td>1.611421</td><td>1.886731</td></tr>\n",
       "\t<tr><td>Passed Ball         </td><td>1.124916</td><td>5.723984</td><td>1.622438</td><td>2.369886</td></tr>\n",
       "\t<tr><td>Catcher Interference</td><td>1.042742</td><td>7.521488</td><td>2.448706</td><td>2.904554</td></tr>\n",
       "</tbody>\n",
       "</table>\n"
      ],
      "text/latex": [
       "A tibble: 10 × 5\n",
       "\\begin{tabular}{lllll}\n",
       " event & target1 & target2 & target3 & target4\\\\\n",
       " <chr> & <dbl> & <dbl> & <dbl> & <dbl>\\\\\n",
       "\\hline\n",
       "\t Triple Play          & 2.990520 & 8.853665 & 6.350272 & 1.826451\\\\\n",
       "\t Bunt Lineout         & 1.722194 & 6.852556 & 3.592346 & 1.205270\\\\\n",
       "\t Stolen Base Home     & 1.471216 & 9.590855 & 4.288144 & 4.246929\\\\\n",
       "\t Batter Interference  & 1.387968 & 8.393238 & 3.114422 & 4.718742\\\\\n",
       "\t Bunt Pop Out         & 1.356937 & 7.224076 & 1.203311 & 2.110315\\\\\n",
       "\t Caught Stealing 3B   & 1.321676 & 7.397475 & 1.259830 & 1.505327\\\\\n",
       "\t Pickoff Error 1B     & 1.158135 & 7.751862 & 2.292012 & 2.239782\\\\\n",
       "\t Bunt Groundout       & 1.130272 & 6.004764 & 1.611421 & 1.886731\\\\\n",
       "\t Passed Ball          & 1.124916 & 5.723984 & 1.622438 & 2.369886\\\\\n",
       "\t Catcher Interference & 1.042742 & 7.521488 & 2.448706 & 2.904554\\\\\n",
       "\\end{tabular}\n"
      ],
      "text/markdown": [
       "\n",
       "A tibble: 10 × 5\n",
       "\n",
       "| event &lt;chr&gt; | target1 &lt;dbl&gt; | target2 &lt;dbl&gt; | target3 &lt;dbl&gt; | target4 &lt;dbl&gt; |\n",
       "|---|---|---|---|---|\n",
       "| Triple Play          | 2.990520 | 8.853665 | 6.350272 | 1.826451 |\n",
       "| Bunt Lineout         | 1.722194 | 6.852556 | 3.592346 | 1.205270 |\n",
       "| Stolen Base Home     | 1.471216 | 9.590855 | 4.288144 | 4.246929 |\n",
       "| Batter Interference  | 1.387968 | 8.393238 | 3.114422 | 4.718742 |\n",
       "| Bunt Pop Out         | 1.356937 | 7.224076 | 1.203311 | 2.110315 |\n",
       "| Caught Stealing 3B   | 1.321676 | 7.397475 | 1.259830 | 1.505327 |\n",
       "| Pickoff Error 1B     | 1.158135 | 7.751862 | 2.292012 | 2.239782 |\n",
       "| Bunt Groundout       | 1.130272 | 6.004764 | 1.611421 | 1.886731 |\n",
       "| Passed Ball          | 1.124916 | 5.723984 | 1.622438 | 2.369886 |\n",
       "| Catcher Interference | 1.042742 | 7.521488 | 2.448706 | 2.904554 |\n",
       "\n"
      ],
      "text/plain": [
       "   event                target1  target2  target3  target4 \n",
       "1  Triple Play          2.990520 8.853665 6.350272 1.826451\n",
       "2  Bunt Lineout         1.722194 6.852556 3.592346 1.205270\n",
       "3  Stolen Base Home     1.471216 9.590855 4.288144 4.246929\n",
       "4  Batter Interference  1.387968 8.393238 3.114422 4.718742\n",
       "5  Bunt Pop Out         1.356937 7.224076 1.203311 2.110315\n",
       "6  Caught Stealing 3B   1.321676 7.397475 1.259830 1.505327\n",
       "7  Pickoff Error 1B     1.158135 7.751862 2.292012 2.239782\n",
       "8  Bunt Groundout       1.130272 6.004764 1.611421 1.886731\n",
       "9  Passed Ball          1.124916 5.723984 1.622438 2.369886\n",
       "10 Catcher Interference 1.042742 7.521488 2.448706 2.904554"
      ]
     },
     "metadata": {},
     "output_type": "display_data"
    }
   ],
   "source": [
    "events_target %>%\n",
    "select(event, starts_with('target')) %>%\n",
    "group_by(event) %>%\n",
    "summarise(across(starts_with('target'),mean)) %>%\n",
    "arrange(desc(target1)) %>%\n",
    "head(10)"
   ]
  },
  {
   "cell_type": "markdown",
   "id": "e060ed91",
   "metadata": {},
   "source": [
    "Top events by target (for hitter):"
   ]
  },
  {
   "cell_type": "code",
   "execution_count": 192,
   "id": "f63608e5",
   "metadata": {},
   "outputs": [],
   "source": [
    "events_target_hitter <- train_events %>%\n",
    "head(100000) %>%\n",
    "left_join(target, by = c('main_date'='main_date', 'hitterId'='playerId'))"
   ]
  },
  {
   "cell_type": "code",
   "execution_count": 194,
   "id": "8b36de6b",
   "metadata": {},
   "outputs": [
    {
     "data": {
      "text/html": [
       "<table class=\"dataframe\">\n",
       "<caption>A tibble: 10 × 5</caption>\n",
       "<thead>\n",
       "\t<tr><th scope=col>event</th><th scope=col>target1</th><th scope=col>target2</th><th scope=col>target3</th><th scope=col>target4</th></tr>\n",
       "\t<tr><th scope=col>&lt;chr&gt;</th><th scope=col>&lt;dbl&gt;</th><th scope=col>&lt;dbl&gt;</th><th scope=col>&lt;dbl&gt;</th><th scope=col>&lt;dbl&gt;</th></tr>\n",
       "</thead>\n",
       "<tbody>\n",
       "\t<tr><td>Umpire Substitution </td><td>8.941602</td><td>23.846102</td><td>8.577969</td><td>15.647441</td></tr>\n",
       "\t<tr><td>Runner Out          </td><td>6.202236</td><td> 9.459521</td><td>5.043806</td><td> 3.759489</td></tr>\n",
       "\t<tr><td>Caught Stealing Home</td><td>6.096377</td><td>15.332055</td><td>8.537438</td><td>11.977802</td></tr>\n",
       "\t<tr><td>Error               </td><td>5.151956</td><td> 6.358901</td><td>3.528312</td><td> 2.525976</td></tr>\n",
       "\t<tr><td>Other Advance       </td><td>4.449776</td><td> 5.912963</td><td>8.269347</td><td> 3.914747</td></tr>\n",
       "\t<tr><td>Double Play         </td><td>4.169585</td><td> 9.687868</td><td>4.577680</td><td> 4.751247</td></tr>\n",
       "\t<tr><td>Intent Walk         </td><td>3.608281</td><td> 8.446276</td><td>3.486095</td><td> 4.362385</td></tr>\n",
       "\t<tr><td>Sac Fly             </td><td>3.334331</td><td> 8.161758</td><td>3.317905</td><td> 4.667866</td></tr>\n",
       "\t<tr><td>Injury              </td><td>3.264186</td><td> 7.650722</td><td>3.648134</td><td> 3.422744</td></tr>\n",
       "\t<tr><td>Defensive Indiff    </td><td>3.151484</td><td> 7.841662</td><td>3.080036</td><td> 4.663977</td></tr>\n",
       "</tbody>\n",
       "</table>\n"
      ],
      "text/latex": [
       "A tibble: 10 × 5\n",
       "\\begin{tabular}{lllll}\n",
       " event & target1 & target2 & target3 & target4\\\\\n",
       " <chr> & <dbl> & <dbl> & <dbl> & <dbl>\\\\\n",
       "\\hline\n",
       "\t Umpire Substitution  & 8.941602 & 23.846102 & 8.577969 & 15.647441\\\\\n",
       "\t Runner Out           & 6.202236 &  9.459521 & 5.043806 &  3.759489\\\\\n",
       "\t Caught Stealing Home & 6.096377 & 15.332055 & 8.537438 & 11.977802\\\\\n",
       "\t Error                & 5.151956 &  6.358901 & 3.528312 &  2.525976\\\\\n",
       "\t Other Advance        & 4.449776 &  5.912963 & 8.269347 &  3.914747\\\\\n",
       "\t Double Play          & 4.169585 &  9.687868 & 4.577680 &  4.751247\\\\\n",
       "\t Intent Walk          & 3.608281 &  8.446276 & 3.486095 &  4.362385\\\\\n",
       "\t Sac Fly              & 3.334331 &  8.161758 & 3.317905 &  4.667866\\\\\n",
       "\t Injury               & 3.264186 &  7.650722 & 3.648134 &  3.422744\\\\\n",
       "\t Defensive Indiff     & 3.151484 &  7.841662 & 3.080036 &  4.663977\\\\\n",
       "\\end{tabular}\n"
      ],
      "text/markdown": [
       "\n",
       "A tibble: 10 × 5\n",
       "\n",
       "| event &lt;chr&gt; | target1 &lt;dbl&gt; | target2 &lt;dbl&gt; | target3 &lt;dbl&gt; | target4 &lt;dbl&gt; |\n",
       "|---|---|---|---|---|\n",
       "| Umpire Substitution  | 8.941602 | 23.846102 | 8.577969 | 15.647441 |\n",
       "| Runner Out           | 6.202236 |  9.459521 | 5.043806 |  3.759489 |\n",
       "| Caught Stealing Home | 6.096377 | 15.332055 | 8.537438 | 11.977802 |\n",
       "| Error                | 5.151956 |  6.358901 | 3.528312 |  2.525976 |\n",
       "| Other Advance        | 4.449776 |  5.912963 | 8.269347 |  3.914747 |\n",
       "| Double Play          | 4.169585 |  9.687868 | 4.577680 |  4.751247 |\n",
       "| Intent Walk          | 3.608281 |  8.446276 | 3.486095 |  4.362385 |\n",
       "| Sac Fly              | 3.334331 |  8.161758 | 3.317905 |  4.667866 |\n",
       "| Injury               | 3.264186 |  7.650722 | 3.648134 |  3.422744 |\n",
       "| Defensive Indiff     | 3.151484 |  7.841662 | 3.080036 |  4.663977 |\n",
       "\n"
      ],
      "text/plain": [
       "   event                target1  target2   target3  target4  \n",
       "1  Umpire Substitution  8.941602 23.846102 8.577969 15.647441\n",
       "2  Runner Out           6.202236  9.459521 5.043806  3.759489\n",
       "3  Caught Stealing Home 6.096377 15.332055 8.537438 11.977802\n",
       "4  Error                5.151956  6.358901 3.528312  2.525976\n",
       "5  Other Advance        4.449776  5.912963 8.269347  3.914747\n",
       "6  Double Play          4.169585  9.687868 4.577680  4.751247\n",
       "7  Intent Walk          3.608281  8.446276 3.486095  4.362385\n",
       "8  Sac Fly              3.334331  8.161758 3.317905  4.667866\n",
       "9  Injury               3.264186  7.650722 3.648134  3.422744\n",
       "10 Defensive Indiff     3.151484  7.841662 3.080036  4.663977"
      ]
     },
     "metadata": {},
     "output_type": "display_data"
    }
   ],
   "source": [
    "events_target_hitter %>%\n",
    "select(event, starts_with('target')) %>%\n",
    "group_by(event) %>%\n",
    "summarise(across(starts_with('target'),mean)) %>%\n",
    "arrange(desc(target1)) %>%\n",
    "head(10)"
   ]
  },
  {
   "cell_type": "markdown",
   "id": "4548cb33",
   "metadata": {},
   "source": [
    "#### Potential features to engineer:\n",
    "\n",
    "* \\# of strikeout events for a player in a given game\n",
    "* \\# of ... events\n",
    "* measure of event sentiment from description\n",
    "* target encode events"
   ]
  },
  {
   "cell_type": "code",
   "execution_count": 186,
   "id": "0dbf1f01",
   "metadata": {},
   "outputs": [
    {
     "data": {
      "text/html": [
       "<style>\n",
       ".list-inline {list-style: none; margin:0; padding: 0}\n",
       ".list-inline>li {display: inline-block}\n",
       ".list-inline>li:not(:last-child)::after {content: \"\\00b7\"; padding: 0 .5ex}\n",
       "</style>\n",
       "<ol class=list-inline><li>2017654</li><li>72</li></ol>\n"
      ],
      "text/latex": [
       "\\begin{enumerate*}\n",
       "\\item 2017654\n",
       "\\item 72\n",
       "\\end{enumerate*}\n"
      ],
      "text/markdown": [
       "1. 2017654\n",
       "2. 72\n",
       "\n",
       "\n"
      ],
      "text/plain": [
       "[1] 2017654      72"
      ]
     },
     "metadata": {},
     "output_type": "display_data"
    }
   ],
   "source": [
    "dim(train_events)"
   ]
  },
  {
   "cell_type": "code",
   "execution_count": null,
   "id": "3db1034b",
   "metadata": {},
   "outputs": [],
   "source": []
  }
 ],
 "metadata": {
  "kernelspec": {
   "display_name": "R",
   "language": "R",
   "name": "ir"
  },
  "language_info": {
   "codemirror_mode": "r",
   "file_extension": ".r",
   "mimetype": "text/x-r-source",
   "name": "R",
   "pygments_lexer": "r",
   "version": "3.6.3"
  }
 },
 "nbformat": 4,
 "nbformat_minor": 5
}
