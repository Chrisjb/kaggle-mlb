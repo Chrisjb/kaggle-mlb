{
 "metadata": {
  "orig_nbformat": 4,
  "kernelspec": {
   "name": "python3",
   "display_name": "Python 3 (ipykernel)",
   "language": "python"
  }
 },
 "nbformat": 4,
 "nbformat_minor": 2,
 "cells": [
  {
   "cell_type": "code",
   "execution_count": 1,
   "metadata": {},
   "outputs": [],
   "source": [
    "import pandas as pd\n",
    "import pickle"
   ]
  },
  {
   "cell_type": "code",
   "execution_count": 2,
   "metadata": {},
   "outputs": [],
   "source": [
    "with open('raw_data/train_nextDayPlayerEngagement.pkl', 'rb') as pkl:\n",
    "    train_nextDayPlayerEngagement = pickle.load(pkl)\n",
    "\n",
    "with open('raw_data/train_playerBoxScores.pkl', 'rb') as pkl:\n",
    "    train_playerBoxScores = pickle.load(pkl)"
   ]
  },
  {
   "cell_type": "code",
   "execution_count": 3,
   "metadata": {},
   "outputs": [
    {
     "output_type": "stream",
     "name": "stdout",
     "text": [
      "  engagementMetricsDate  playerId   target1    target2    target3    target4  \\\n0            2018-01-02    628317  0.011167   4.474708   0.005168   5.735294   \n1            2018-01-02    547989  0.042993   5.593385   0.045033   2.794118   \n2            2018-01-02    519317  0.974327  56.177043  13.693746  64.166667   \n3            2018-01-02    607625  0.006700   2.675097   0.005168   1.862745   \n4            2018-01-02    592547  0.001117   0.632296   0.002953   0.931373   \n\n   index       date  \n0      0 2018-01-01  \n1      0 2018-01-01  \n2      0 2018-01-01  \n3      0 2018-01-01  \n4      0 2018-01-01  \n(2506176, 8)\n"
     ]
    }
   ],
   "source": [
    "print(train_nextDayPlayerEngagement.head())\n",
    "print(train_nextDayPlayerEngagement.shape)"
   ]
  },
  {
   "cell_type": "code",
   "execution_count": 4,
   "metadata": {},
   "outputs": [
    {
     "output_type": "execute_result",
     "data": {
      "text/plain": [
       "  engagementMetricsDate  playerId   target1    target2    target3    target4  \\\n",
       "0            2018-01-02    628317  0.011167   4.474708   0.005168   5.735294   \n",
       "1            2018-01-02    547989  0.042993   5.593385   0.045033   2.794118   \n",
       "2            2018-01-02    519317  0.974327  56.177043  13.693746  64.166667   \n",
       "3            2018-01-02    607625  0.006700   2.675097   0.005168   1.862745   \n",
       "4            2018-01-02    592547  0.001117   0.632296   0.002953   0.931373   \n",
       "\n",
       "   index       date  \n",
       "0      0 2018-01-01  \n",
       "1      0 2018-01-01  \n",
       "2      0 2018-01-01  \n",
       "3      0 2018-01-01  \n",
       "4      0 2018-01-01  "
      ],
      "text/html": "<div>\n<style scoped>\n    .dataframe tbody tr th:only-of-type {\n        vertical-align: middle;\n    }\n\n    .dataframe tbody tr th {\n        vertical-align: top;\n    }\n\n    .dataframe thead th {\n        text-align: right;\n    }\n</style>\n<table border=\"1\" class=\"dataframe\">\n  <thead>\n    <tr style=\"text-align: right;\">\n      <th></th>\n      <th>engagementMetricsDate</th>\n      <th>playerId</th>\n      <th>target1</th>\n      <th>target2</th>\n      <th>target3</th>\n      <th>target4</th>\n      <th>index</th>\n      <th>date</th>\n    </tr>\n  </thead>\n  <tbody>\n    <tr>\n      <th>0</th>\n      <td>2018-01-02</td>\n      <td>628317</td>\n      <td>0.011167</td>\n      <td>4.474708</td>\n      <td>0.005168</td>\n      <td>5.735294</td>\n      <td>0</td>\n      <td>2018-01-01</td>\n    </tr>\n    <tr>\n      <th>1</th>\n      <td>2018-01-02</td>\n      <td>547989</td>\n      <td>0.042993</td>\n      <td>5.593385</td>\n      <td>0.045033</td>\n      <td>2.794118</td>\n      <td>0</td>\n      <td>2018-01-01</td>\n    </tr>\n    <tr>\n      <th>2</th>\n      <td>2018-01-02</td>\n      <td>519317</td>\n      <td>0.974327</td>\n      <td>56.177043</td>\n      <td>13.693746</td>\n      <td>64.166667</td>\n      <td>0</td>\n      <td>2018-01-01</td>\n    </tr>\n    <tr>\n      <th>3</th>\n      <td>2018-01-02</td>\n      <td>607625</td>\n      <td>0.006700</td>\n      <td>2.675097</td>\n      <td>0.005168</td>\n      <td>1.862745</td>\n      <td>0</td>\n      <td>2018-01-01</td>\n    </tr>\n    <tr>\n      <th>4</th>\n      <td>2018-01-02</td>\n      <td>592547</td>\n      <td>0.001117</td>\n      <td>0.632296</td>\n      <td>0.002953</td>\n      <td>0.931373</td>\n      <td>0</td>\n      <td>2018-01-01</td>\n    </tr>\n  </tbody>\n</table>\n</div>"
     },
     "metadata": {},
     "execution_count": 4
    }
   ],
   "source": [
    "train_nextDayPlayerEngagement.head()"
   ]
  },
  {
   "cell_type": "code",
   "execution_count": 5,
   "metadata": {},
   "outputs": [
    {
     "output_type": "execute_result",
     "data": {
      "text/plain": [
       "   home  gamePk    gameDate           gameTimeUTC  teamId  \\\n",
       "0     1  529418  2018-03-29  2018-03-29T23:08:00Z     119   \n",
       "1     1  529406  2018-03-29  2018-03-29T20:00:00Z     139   \n",
       "2     0  529416  2018-03-29  2018-03-29T20:10:00Z     143   \n",
       "3     0  529412  2018-03-29  2018-03-29T20:05:00Z     108   \n",
       "4     1  529408  2018-03-29  2018-03-29T20:15:00Z     118   \n",
       "\n",
       "                teamName  playerId      playerName jerseyNum positionCode  \\\n",
       "0    Los Angeles Dodgers    605131   Austin Barnes        15           12   \n",
       "1         Tampa Bay Rays    605480    Mallex Smith         0            7   \n",
       "2  Philadelphia Phillies    546318  Odubel Herrera        37            8   \n",
       "3     Los Angeles Angels    527043     Jefry Marte        19            3   \n",
       "4     Kansas City Royals    449181   Paulo Orlando        16            8   \n",
       "\n",
       "   ... sacFliesPitching saves  holds  blownSaves  assists  putOuts  errors  \\\n",
       "0  ...              NaN   NaN    NaN         NaN      NaN      NaN     NaN   \n",
       "1  ...              NaN   NaN    NaN         NaN      0.0      0.0     0.0   \n",
       "2  ...              NaN   NaN    NaN         NaN      0.0      0.0     0.0   \n",
       "3  ...              NaN   NaN    NaN         NaN      0.0      1.0     0.0   \n",
       "4  ...              NaN   NaN    NaN         NaN      0.0      2.0     0.0   \n",
       "\n",
       "   chances  index       date  \n",
       "0      NaN     87 2018-03-29  \n",
       "1      0.0     87 2018-03-29  \n",
       "2      0.0     87 2018-03-29  \n",
       "3      1.0     87 2018-03-29  \n",
       "4      2.0     87 2018-03-29  \n",
       "\n",
       "[5 rows x 87 columns]"
      ],
      "text/html": "<div>\n<style scoped>\n    .dataframe tbody tr th:only-of-type {\n        vertical-align: middle;\n    }\n\n    .dataframe tbody tr th {\n        vertical-align: top;\n    }\n\n    .dataframe thead th {\n        text-align: right;\n    }\n</style>\n<table border=\"1\" class=\"dataframe\">\n  <thead>\n    <tr style=\"text-align: right;\">\n      <th></th>\n      <th>home</th>\n      <th>gamePk</th>\n      <th>gameDate</th>\n      <th>gameTimeUTC</th>\n      <th>teamId</th>\n      <th>teamName</th>\n      <th>playerId</th>\n      <th>playerName</th>\n      <th>jerseyNum</th>\n      <th>positionCode</th>\n      <th>...</th>\n      <th>sacFliesPitching</th>\n      <th>saves</th>\n      <th>holds</th>\n      <th>blownSaves</th>\n      <th>assists</th>\n      <th>putOuts</th>\n      <th>errors</th>\n      <th>chances</th>\n      <th>index</th>\n      <th>date</th>\n    </tr>\n  </thead>\n  <tbody>\n    <tr>\n      <th>0</th>\n      <td>1</td>\n      <td>529418</td>\n      <td>2018-03-29</td>\n      <td>2018-03-29T23:08:00Z</td>\n      <td>119</td>\n      <td>Los Angeles Dodgers</td>\n      <td>605131</td>\n      <td>Austin Barnes</td>\n      <td>15</td>\n      <td>12</td>\n      <td>...</td>\n      <td>NaN</td>\n      <td>NaN</td>\n      <td>NaN</td>\n      <td>NaN</td>\n      <td>NaN</td>\n      <td>NaN</td>\n      <td>NaN</td>\n      <td>NaN</td>\n      <td>87</td>\n      <td>2018-03-29</td>\n    </tr>\n    <tr>\n      <th>1</th>\n      <td>1</td>\n      <td>529406</td>\n      <td>2018-03-29</td>\n      <td>2018-03-29T20:00:00Z</td>\n      <td>139</td>\n      <td>Tampa Bay Rays</td>\n      <td>605480</td>\n      <td>Mallex Smith</td>\n      <td>0</td>\n      <td>7</td>\n      <td>...</td>\n      <td>NaN</td>\n      <td>NaN</td>\n      <td>NaN</td>\n      <td>NaN</td>\n      <td>0.0</td>\n      <td>0.0</td>\n      <td>0.0</td>\n      <td>0.0</td>\n      <td>87</td>\n      <td>2018-03-29</td>\n    </tr>\n    <tr>\n      <th>2</th>\n      <td>0</td>\n      <td>529416</td>\n      <td>2018-03-29</td>\n      <td>2018-03-29T20:10:00Z</td>\n      <td>143</td>\n      <td>Philadelphia Phillies</td>\n      <td>546318</td>\n      <td>Odubel Herrera</td>\n      <td>37</td>\n      <td>8</td>\n      <td>...</td>\n      <td>NaN</td>\n      <td>NaN</td>\n      <td>NaN</td>\n      <td>NaN</td>\n      <td>0.0</td>\n      <td>0.0</td>\n      <td>0.0</td>\n      <td>0.0</td>\n      <td>87</td>\n      <td>2018-03-29</td>\n    </tr>\n    <tr>\n      <th>3</th>\n      <td>0</td>\n      <td>529412</td>\n      <td>2018-03-29</td>\n      <td>2018-03-29T20:05:00Z</td>\n      <td>108</td>\n      <td>Los Angeles Angels</td>\n      <td>527043</td>\n      <td>Jefry Marte</td>\n      <td>19</td>\n      <td>3</td>\n      <td>...</td>\n      <td>NaN</td>\n      <td>NaN</td>\n      <td>NaN</td>\n      <td>NaN</td>\n      <td>0.0</td>\n      <td>1.0</td>\n      <td>0.0</td>\n      <td>1.0</td>\n      <td>87</td>\n      <td>2018-03-29</td>\n    </tr>\n    <tr>\n      <th>4</th>\n      <td>1</td>\n      <td>529408</td>\n      <td>2018-03-29</td>\n      <td>2018-03-29T20:15:00Z</td>\n      <td>118</td>\n      <td>Kansas City Royals</td>\n      <td>449181</td>\n      <td>Paulo Orlando</td>\n      <td>16</td>\n      <td>8</td>\n      <td>...</td>\n      <td>NaN</td>\n      <td>NaN</td>\n      <td>NaN</td>\n      <td>NaN</td>\n      <td>0.0</td>\n      <td>2.0</td>\n      <td>0.0</td>\n      <td>2.0</td>\n      <td>87</td>\n      <td>2018-03-29</td>\n    </tr>\n  </tbody>\n</table>\n<p>5 rows × 87 columns</p>\n</div>"
     },
     "metadata": {},
     "execution_count": 5
    }
   ],
   "source": [
    "# primary position name\n",
    "# team id\n",
    "train_playerBoxScores.head()"
   ]
  },
  {
   "cell_type": "code",
   "execution_count": 6,
   "metadata": {},
   "outputs": [],
   "source": [
    "\n",
    "\n",
    "train = pd.merge(train_nextDayPlayerEngagement, train_playerBoxScores, how = 'left', on =  ['date','playerId'])"
   ]
  },
  {
   "cell_type": "code",
   "execution_count": 7,
   "metadata": {},
   "outputs": [
    {
     "output_type": "stream",
     "name": "stdout",
     "text": [
      "(2508359, 93)\n  engagementMetricsDate  playerId   target1    target2    target3    target4  \\\n0            2018-01-02    628317  0.011167   4.474708   0.005168   5.735294   \n1            2018-01-02    547989  0.042993   5.593385   0.045033   2.794118   \n2            2018-01-02    519317  0.974327  56.177043  13.693746  64.166667   \n3            2018-01-02    607625  0.006700   2.675097   0.005168   1.862745   \n4            2018-01-02    592547  0.001117   0.632296   0.002953   0.931373   \n\n   index_x       date  home  gamePk  ... sacBuntsPitching sacFliesPitching  \\\n0        0 2018-01-01   NaN     NaN  ...              NaN              NaN   \n1        0 2018-01-01   NaN     NaN  ...              NaN              NaN   \n2        0 2018-01-01   NaN     NaN  ...              NaN              NaN   \n3        0 2018-01-01   NaN     NaN  ...              NaN              NaN   \n4        0 2018-01-01   NaN     NaN  ...              NaN              NaN   \n\n   saves holds blownSaves assists putOuts errors chances  index_y  \n0    NaN   NaN        NaN     NaN     NaN    NaN     NaN      NaN  \n1    NaN   NaN        NaN     NaN     NaN    NaN     NaN      NaN  \n2    NaN   NaN        NaN     NaN     NaN    NaN     NaN      NaN  \n3    NaN   NaN        NaN     NaN     NaN    NaN     NaN      NaN  \n4    NaN   NaN        NaN     NaN     NaN    NaN     NaN      NaN  \n\n[5 rows x 93 columns]\nIndex(['engagementMetricsDate', 'playerId', 'target1', 'target2', 'target3',\n       'target4', 'index_x', 'date', 'home', 'gamePk', 'gameDate',\n       'gameTimeUTC', 'teamId', 'teamName', 'playerName', 'jerseyNum',\n       'positionCode', 'positionName', 'positionType', 'battingOrder',\n       'gamesPlayedBatting', 'flyOuts', 'groundOuts', 'runsScored', 'doubles',\n       'triples', 'homeRuns', 'strikeOuts', 'baseOnBalls', 'intentionalWalks',\n       'hits', 'hitByPitch', 'atBats', 'caughtStealing', 'stolenBases',\n       'groundIntoDoublePlay', 'groundIntoTriplePlay', 'plateAppearances',\n       'totalBases', 'rbi', 'leftOnBase', 'sacBunts', 'sacFlies',\n       'catchersInterference', 'pickoffs', 'gamesPlayedPitching',\n       'gamesStartedPitching', 'completeGamesPitching', 'shutoutsPitching',\n       'winsPitching', 'lossesPitching', 'flyOutsPitching', 'airOutsPitching',\n       'groundOutsPitching', 'runsPitching', 'doublesPitching',\n       'triplesPitching', 'homeRunsPitching', 'strikeOutsPitching',\n       'baseOnBallsPitching', 'intentionalWalksPitching', 'hitsPitching',\n       'hitByPitchPitching', 'atBatsPitching', 'caughtStealingPitching',\n       'stolenBasesPitching', 'inningsPitched', 'saveOpportunities',\n       'earnedRuns', 'battersFaced', 'outsPitching', 'pitchesThrown', 'balls',\n       'strikes', 'hitBatsmen', 'balks', 'wildPitches', 'pickoffsPitching',\n       'rbiPitching', 'gamesFinishedPitching', 'inheritedRunners',\n       'inheritedRunnersScored', 'catchersInterferencePitching',\n       'sacBuntsPitching', 'sacFliesPitching', 'saves', 'holds', 'blownSaves',\n       'assists', 'putOuts', 'errors', 'chances', 'index_y'],\n      dtype='object')\n"
     ]
    }
   ],
   "source": [
    "print(train.shape)\n",
    "print(train.head())\n",
    "print(train.columns)"
   ]
  },
  {
   "cell_type": "code",
   "execution_count": 10,
   "metadata": {},
   "outputs": [],
   "source": [
    "import xgboost as xgb\n",
    "import sklearn\n",
    "\n",
    "features = ['homeRunsPitching','strikeOutsPitching','homeRuns','battingOrder','gamesPlayedBatting', 'flyOuts', 'groundOuts', 'runsScored','doubles','triples', 'strikeOuts']\n",
    "\n",
    "X_train = train[features]\n",
    "y_train = train['target1']\n",
    "\n",
    "dtrain = xgb.DMatrix(X_train, label=y_train)\n",
    "\n",
    "basic_bitch_model = xgb.train(dtrain = dtrain, params = {'eta': 10},)\n",
    "\n",
    "ypred = basic_bitch_model.predict(dtrain)"
   ]
  },
  {
   "cell_type": "code",
   "execution_count": null,
   "metadata": {},
   "outputs": [],
   "source": []
  }
 ]
}